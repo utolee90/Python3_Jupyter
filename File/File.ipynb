{
 "cells": [
  {
   "cell_type": "markdown",
   "metadata": {},
   "source": [
    "## 파일 제어\n",
    "* ```(파일명) = open('파일명', (액션), encoding='utf8')``` 형식으로 열 수 있다. \n",
    "* 액션 종류\n",
    " * 'r' -> 읽기 전용. 이미 생성된 파일만.\n",
    " * 'w' -> 쓰기, 파일을 생성하며, 기존의 파일은 덮어쓴다.\n",
    " * 'x' -> 쓰기, 새 파일에만 적용가능.\n",
    " * 'a' -> 쓰기, 파일을 생성하며, 기존의 파일의 뒷부분에 추가\n",
    " * '+' -> 읽기쓰기 모두\n",
    " * 'rb', 'wb' -> 바이너리 형식으로 파일 작성.  \n",
    " * 참조 : [파이썬 파일 사용법 정리](https://withcoding.com/86)\n",
    "* 파일 읽기 함수\n",
    " * f.read() -> 파일 전체를 문자열로 읽는다. \n",
    " * f.readline() -> 파일의 줄을 읽는다. 반복 실행시 \n",
    " * f.readlines() -> 각 줄을 문자열의 배열로 반환한다.\n",
    "* 파일 쓰기 함수\n",
    " * f.write('문자열') -> 파일을 문자열로 작성한다.\n",
    " * f.writelines\n",
    "* 파일을 읽고 쓰는 위치 찾기 \n",
    " * f.fileno() -> 파일의 번호를 확인하는 함수. 4번부터 시작\n",
    " * f.tell() -> 파일의 현재 위치를 반환한다.\n",
    " * f.seek(번호) -> 파일의 제어 위키를 지정한다.\n",
    "* 파일 닫기 \n",
    " * f.close() 사용"
   ]
  },
  {
   "cell_type": "code",
   "execution_count": 9,
   "metadata": {},
   "outputs": [
    {
     "name": "stdout",
     "output_type": "stream",
     "text": [
      "['_CHUNK_SIZE', '__class__', '__del__', '__delattr__', '__dict__', '__dir__', '__doc__', '__enter__', '__eq__', '__exit__', '__format__', '__ge__', '__getattribute__', '__gt__', '__hash__', '__init__', '__init_subclass__', '__iter__', '__le__', '__lt__', '__ne__', '__new__', '__next__', '__reduce__', '__reduce_ex__', '__repr__', '__setattr__', '__sizeof__', '__str__', '__subclasshook__', '_checkClosed', '_checkReadable', '_checkSeekable', '_checkWritable', '_finalizing', 'buffer', 'close', 'closed', 'detach', 'encoding', 'errors', 'fileno', 'flush', 'isatty', 'line_buffering', 'mode', 'name', 'newlines', 'read', 'readable', 'readline', 'readlines', 'reconfigure', 'seek', 'seekable', 'tell', 'truncate', 'writable', 'write', 'write_through', 'writelines']\n",
      "<class '_io.TextIOWrapper'>\n"
     ]
    }
   ],
   "source": [
    "f = open('test.txt', 'r')\n",
    "print(dir(f))\n",
    "print(type(f))\n",
    "f.close()"
   ]
  },
  {
   "cell_type": "code",
   "execution_count": 33,
   "metadata": {},
   "outputs": [
    {
     "name": "stdout",
     "output_type": "stream",
     "text": [
      "read로 읽기\n",
      "4\n",
      "예시 문서입니다.\n",
      "두 번째 줄\n",
      "세 번째 줄\n",
      "마지막 줄입니다.\n"
     ]
    }
   ],
   "source": [
    "# 예시 - 파일 읽기\n",
    "print('read로 읽기')\n",
    "f = open('test.txt', 'r', encoding='utf8')\n",
    "# read로 읽기\n",
    "print(f.fileno())\n",
    "txt0 = f.read()\n",
    "print(txt0)\n",
    "f.close()\n"
   ]
  },
  {
   "cell_type": "code",
   "execution_count": 34,
   "metadata": {},
   "outputs": [
    {
     "name": "stdout",
     "output_type": "stream",
     "text": [
      "readlines로 읽기\n",
      "<class 'list'>\n",
      "['예시 문서입니다.\\n', '두 번째 줄\\n', '세 번째 줄\\n', '마지막 줄입니다.']\n",
      "예시 문서입니다.\n",
      "\n",
      "두 번째 줄\n",
      "\n",
      "세 번째 줄\n",
      "\n",
      "마지막 줄입니다.\n"
     ]
    }
   ],
   "source": [
    "# readlines로 읽기\n",
    "print('readlines로 읽기')\n",
    "f = open('test.txt', 'r', encoding='utf8')\n",
    "txt_list = f.readlines()\n",
    "print(type(txt_list))\n",
    "print(txt_list)\n",
    "for txt1 in txt_list:\n",
    "    print(txt1)\n",
    "f.close()"
   ]
  },
  {
   "cell_type": "code",
   "execution_count": 16,
   "metadata": {},
   "outputs": [
    {
     "name": "stdout",
     "output_type": "stream",
     "text": [
      "readline으로 읽기\n",
      "예시 문서입니다.\n",
      "두 번째 줄\n"
     ]
    }
   ],
   "source": [
    "# readline으로 읽기 - 한 줄만 읽는다.\n",
    "print('readline으로 읽기')\n",
    "f = open('test.txt', 'r', encoding='utf8')\n",
    "txt1 = f.readline()\n",
    "print(txt1, end=\"\")\n",
    "txt1 = f.readline()\n",
    "print(txt1, end=\"\")\n",
    "f.close()"
   ]
  },
  {
   "cell_type": "code",
   "execution_count": 36,
   "metadata": {},
   "outputs": [
    {
     "name": "stdout",
     "output_type": "stream",
     "text": [
      "예시 문서입니다.\n",
      "\n",
      "두 번째 줄\n",
      "\n",
      "세 번째 줄\n",
      "\n",
      "마지막 줄입니다.\n"
     ]
    }
   ],
   "source": [
    "f = open('test.txt', 'r', encoding='utf8')\n",
    "s = f.readline()\n",
    "print(s)\n",
    "for s in f:\n",
    "    print(s)\n",
    "f.close()"
   ]
  },
  {
   "cell_type": "code",
   "execution_count": 37,
   "metadata": {},
   "outputs": [
    {
     "name": "stdout",
     "output_type": "stream",
     "text": [
      "예시 문서입니다.\n",
      "위치 24\n",
      "두 번째 줄\n",
      "39\n",
      "4\n",
      "Lorem ipsum dolor sit amet, \n",
      "29\n",
      "4\n",
      "consectetur adipisicing elit, \n",
      "sed do eiusmod tempor incididunt ut labore et dolore magna aliqua. \n",
      "\n",
      "Ut enim ad minim veniam, \n",
      "quis nostrud exercitation ullamco laboris nisi ut aliquip ex ea commodo consequat. \n",
      "\n",
      "Duis aute irure dolor in reprehenderit in voluptate velit esse cillum dolore eu fugiat nulla pariatur.\n",
      "\n",
      "Excepteur sint occaecat cupidatat non proident, \n",
      "\n",
      "sunt in culpa qui officia deserunt mollit anim id est laborum.\n",
      "\n",
      "다시 처음으로\n",
      "Lorem ipsum dolor sit amet, \n",
      "\n"
     ]
    }
   ],
   "source": [
    "#tell, seek -> 위치 찾기, 위치 옮기기\n",
    "f = open('test.txt', 'r', encoding='utf8')\n",
    "txt1 = f.readline()\n",
    "print(txt1, end=\"\")\n",
    "print('위치', f.tell())\n",
    "txt2 = f.readline()\n",
    "print(txt2, end=\"\")\n",
    "print(f.tell())\n",
    "f.close()\n",
    "\n",
    "g= open('LoremIpsum.txt', 'r')\n",
    "print(g.fileno())\n",
    "txt1 = g.readline()\n",
    "print(txt1, end=\"\")\n",
    "print(g.tell())\n",
    "print(g.fileno())\n",
    "remtext = g.read()\n",
    "print(remtext)\n",
    "print()\n",
    "print('다시 처음으로')\n",
    "g.seek(0)\n",
    "txt3 = g.readline()\n",
    "print(txt3)\n",
    "g.close()"
   ]
  },
  {
   "cell_type": "code",
   "execution_count": 38,
   "metadata": {},
   "outputs": [
    {
     "name": "stdout",
     "output_type": "stream",
     "text": [
      "4 5\n"
     ]
    }
   ],
   "source": [
    "#파일 쓰기 - w나 a 옵션 사용 a는 이미 있는 파일 사용.\n",
    "# 함수는 write나 writelines 사용.\n",
    "h = open('new.txt', 'w+')\n",
    "j = open('new/new1.txt', 'w+')\n",
    "print(h.fileno(), j.fileno())\n",
    "h.write('new Test!\\n')\n",
    "j.write('new Test!\\n')\n",
    "h.writelines(['attend', ':', 'LeeYoHan'])\n",
    "j.writelines(['attend', ':', 'LeeYoHan'])\n",
    "h.close()\n",
    "j.close()\n"
   ]
  },
  {
   "cell_type": "code",
   "execution_count": 39,
   "metadata": {},
   "outputs": [
    {
     "name": "stdout",
     "output_type": "stream",
     "text": [
      "4 5\n"
     ]
    }
   ],
   "source": [
    "h = open('new.txt', 'w')\n",
    "j = open('new/new1.txt', 'a')\n",
    "print(h.fileno(), j.fileno())\n",
    "h.write('Overwrite!\\n')\n",
    "j.write('\\nAdd Text!\\n')\n",
    "h.writelines(['attend', ':', 'LeeYoHan'])\n",
    "j.writelines(['attend', ':', 'LeeYoHan'])\n",
    "h.close()\n",
    "j.close()\n"
   ]
  },
  {
   "cell_type": "markdown",
   "metadata": {},
   "source": [
    "### with문 \n",
    "* 자동으로 파일 닫을 때 사용.\n",
    ">```\n",
    ">with open('txt파일', '조건') as (변수명):\n",
    ">    (작업명)\n",
    ">```"
   ]
  },
  {
   "cell_type": "code",
   "execution_count": 32,
   "metadata": {},
   "outputs": [
    {
     "name": "stdout",
     "output_type": "stream",
     "text": [
      "예시 문서입니다.\n",
      "두 번째 줄\n",
      "세 번째 줄\n",
      "마지막 줄입니다.\n",
      "77\n"
     ]
    }
   ],
   "source": [
    "with open ('test.txt', 'r', encoding='utf8') as f:\n",
    "    print(f.read())\n",
    "    print(f.tell())"
   ]
  }
 ],
 "metadata": {
  "kernelspec": {
   "display_name": "Python 3",
   "language": "python",
   "name": "python3"
  },
  "language_info": {
   "codemirror_mode": {
    "name": "ipython",
    "version": 3
   },
   "file_extension": ".py",
   "mimetype": "text/x-python",
   "name": "python",
   "nbconvert_exporter": "python",
   "pygments_lexer": "ipython3",
   "version": "3.8.3"
  }
 },
 "nbformat": 4,
 "nbformat_minor": 4
}
