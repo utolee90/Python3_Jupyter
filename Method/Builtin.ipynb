{
 "cells": [
  {
   "cell_type": "code",
   "execution_count": 1,
   "metadata": {},
   "outputs": [],
   "source": [
    "# built in function"
   ]
  },
  {
   "cell_type": "code",
   "execution_count": 2,
   "metadata": {},
   "outputs": [
    {
     "name": "stdout",
     "output_type": "stream",
     "text": [
      "327\n",
      "4\n",
      "81.75\n",
      "90\n",
      "70\n"
     ]
    }
   ],
   "source": [
    "score = [70, 80, 90, 87]\n",
    "tot = sum(score)\n",
    "num = len(score)\n",
    "avg = tot / num\n",
    "maxScore = max(score)\n",
    "minScore = min(score)\n",
    "\n",
    "print(tot)\n",
    "print(num)\n",
    "print(avg)\n",
    "print(maxScore)\n",
    "print(minScore)"
   ]
  },
  {
   "cell_type": "code",
   "execution_count": 9,
   "metadata": {},
   "outputs": [
    {
     "name": "stdout",
     "output_type": "stream",
     "text": [
      "[70 80 90 87]\n",
      "최댓값 90\n",
      "최솟값 70\n",
      "합계 327\n",
      "평균 81.75\n",
      "분산 59.1875\n",
      "중간값 83.5\n"
     ]
    }
   ],
   "source": [
    "import numpy\n",
    "\n",
    "score_array= numpy.array(score)\n",
    "\n",
    "print(score_array)\n",
    "print('최댓값', score_array.max())\n",
    "print('최솟값', score_array.min())\n",
    "print('합계', score_array.sum())\n",
    "print('평균', score_array.mean())\n",
    "print('분산', score_array.var())\n",
    "print('중간값', numpy.median(score_array))"
   ]
  }
 ],
 "metadata": {
  "kernelspec": {
   "display_name": "Python 3",
   "language": "python",
   "name": "python3"
  },
  "language_info": {
   "codemirror_mode": {
    "name": "ipython",
    "version": 3
   },
   "file_extension": ".py",
   "mimetype": "text/x-python",
   "name": "python",
   "nbconvert_exporter": "python",
   "pygments_lexer": "ipython3",
   "version": "3.8.3"
  }
 },
 "nbformat": 4,
 "nbformat_minor": 4
}
