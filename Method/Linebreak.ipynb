{
 "cells": [
  {
   "cell_type": "code",
   "execution_count": 1,
   "metadata": {},
   "outputs": [],
   "source": [
    "#줄 끊기"
   ]
  },
  {
   "cell_type": "code",
   "execution_count": 17,
   "metadata": {},
   "outputs": [
    {
     "name": "stdout",
     "output_type": "stream",
     "text": [
      "2 3\n",
      "1 더하기 1은 귀요미! \n",
      "2 더하기 2도 귀요미! \n",
      "3 더하기 3도 귀요미! \n",
      "4 더하기 4도 귀요미!\n",
      "[1, 2, 4, 8]\n",
      "{1: 2, 2: 4, 3: 8, 'null': 0}\n",
      "hello\n"
     ]
    }
   ],
   "source": [
    "# 세미콜론으로 강제 줄 끊어주기 \n",
    "# 반대로 \\기호로는 줄 연결 가능\n",
    "# 리스트, 딕셔너리 등에서 콤마는 개행가능\n",
    "\n",
    "a = 2 ; b = 3\n",
    "print(a,b)\n",
    "\n",
    "print(\"{} 더하기 {}은 귀요미! \\n{} 더하기 {}도 귀요미! \\\n",
    "\\n{} 더하기 {}도 귀요미! \\n{} 더하기 {}도 귀요미!\"\n",
    "      .format(1,1,2,2,3,3,4,4))\n",
    "\n",
    "lis = [\n",
    "       1,\n",
    "       2, \n",
    "       4,\n",
    "       8\n",
    "      ]\n",
    "print(lis)\n",
    "\n",
    "dict1 = {\n",
    "         1:2,\n",
    "          2:4,\n",
    "          3:8,\n",
    "          'null':0\n",
    "        }\n",
    "print(dict1)\n",
    "\n",
    "def functest(\n",
    "):\n",
    "    print('hello')\n",
    "\n",
    "functest()"
   ]
  },
  {
   "cell_type": "code",
   "execution_count": 16,
   "metadata": {},
   "outputs": [
    {
     "name": "stdout",
     "output_type": "stream",
     "text": [
      "2 -> 4\n",
      "3 -> 8\n",
      "null -> 0\n",
      "4는 0보다 크다\n",
      "4,3은 0보다 크다\n"
     ]
    }
   ],
   "source": [
    "#for in, if 조건 문은 한줄에 써야 한다.\n",
    "# \n",
    "\n",
    "for (key, val) in dict1.items():\n",
    "        print(f'{key} -> {val}')\n",
    "\n",
    "if 4 > 0 : \n",
    "    print('4는 0보다 크다')\n",
    "    \n",
    "if 4>0 and 3>0 :\n",
    "    print('4,3은 0보다 크다')"
   ]
  }
 ],
 "metadata": {
  "kernelspec": {
   "display_name": "Python 3",
   "language": "python",
   "name": "python3"
  },
  "language_info": {
   "codemirror_mode": {
    "name": "ipython",
    "version": 3
   },
   "file_extension": ".py",
   "mimetype": "text/x-python",
   "name": "python",
   "nbconvert_exporter": "python",
   "pygments_lexer": "ipython3",
   "version": "3.8.3"
  }
 },
 "nbformat": 4,
 "nbformat_minor": 4
}
