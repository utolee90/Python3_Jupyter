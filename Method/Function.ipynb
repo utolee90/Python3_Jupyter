{
 "cells": [
  {
   "cell_type": "markdown",
   "metadata": {},
   "source": [
    "## 함수 \n",
    "* 함수를 정의할 때 사용한다. \n",
    "* def 키워드 사용하기\n",
    ">```\n",
    ">def (function_name) ( (변수명) ):\n",
    "    (정의)\n",
    "    return (결과값)\n",
    ">````\n",
    "* 함수는 반드시 소문자로 표기한다. 띄어쓰기는 _ 기호 사용"
   ]
  },
  {
   "cell_type": "code",
   "execution_count": 1,
   "metadata": {},
   "outputs": [
    {
     "name": "stdout",
     "output_type": "stream",
     "text": [
      "Hello World!\n",
      "6.3\n",
      "[1, 2, 3, 4]\n"
     ]
    }
   ],
   "source": [
    "# 간단한 함수 숫자 더하기\n",
    "def helloworld():\n",
    "    print('Hello World!')\n",
    "\n",
    "def summ (x, y):\n",
    "    return x + y\n",
    "\n",
    "helloworld()\n",
    "print(summ(4,2.3))\n",
    "print(summ([1,2],[3,4]))"
   ]
  },
  {
   "cell_type": "markdown",
   "metadata": {},
   "source": [
    "### 함수 기본값 \n",
    "* 변수값=(기본값)으로 지정가능"
   ]
  },
  {
   "cell_type": "code",
   "execution_count": 4,
   "metadata": {},
   "outputs": [
    {
     "name": "stdout",
     "output_type": "stream",
     "text": [
      "[4, 12, -8]\n",
      "[1.5, -2.4, 5]\n",
      "[1, 3, 1, 3, 1, 3, 1, 3, 1, 3]\n"
     ]
    }
   ],
   "source": [
    "def multi (_list, const = 1):\n",
    "    if str(type(_list)) == \"<class 'list'>\":\n",
    "        return [i*const for i in _list]\n",
    "\n",
    "print(multi( [1, 3, -2], 4) )\n",
    "print(multi([1.5, -2.4, 5]) )\n",
    "\n",
    "def multi2 (_list, const =1):\n",
    "    return [ *_list * const ]\n",
    "print( multi2 ([1, 3], 5))"
   ]
  },
  {
   "cell_type": "code",
   "execution_count": 8,
   "metadata": {},
   "outputs": [
    {
     "name": "stdout",
     "output_type": "stream",
     "text": [
      "이름은 쏘나타, 색상은 검은색, 크기는 중형차\n"
     ]
    }
   ],
   "source": [
    "#키값으로 지정됐을 때는 순서 변경가능\n",
    "def description (name, color='하양', size='중간'):\n",
    "    print(f'이름은 {name}, 색상은 {color}, 크기는 {size}')\n",
    "\n",
    "description(\"쏘나타\", size='중형차', color='검은색')"
   ]
  },
  {
   "cell_type": "markdown",
   "metadata": {},
   "source": [
    "### 별표 표시와 함수 \n",
    "* 입력 값이 무제한일 때 사용가능 - 내부적으로는 리스트 혹은 딕셔너리로 처리\n",
    "* ```*``` 표시 - 값만 입력할 때 사용한다.\n",
    "* ** 표시 - 키=값 형태로 입력할 때 사용한다.\n"
   ]
  },
  {
   "cell_type": "code",
   "execution_count": 10,
   "metadata": {},
   "outputs": [],
   "source": [
    "def opernum(*args, **kwargs):\n",
    "    res = 0 #초기값\n",
    "    if kwargs.get('symbol') == '+':\n",
    "        for arg in args:\n",
    "            res +=arg\n",
    "        return res\n",
    "    elif kwargs.get('symbol') == '*':\n",
    "        res =1\n",
    "        for arg in args:\n",
    "            res *=arg\n",
    "        return res\n",
    "    elif kwargs.get('symbol') == '-':\n",
    "        arg1 = [args[i] if i%2==0 else -args[i] for i in range(len(args))]\n",
    "        for arg in arg1:\n",
    "            res +=arg\n",
    "        return res\n",
    "    elif kwargs.get('symbol') == '/' :\n",
    "        if 0 not in args: # 0이 없을 때\n",
    "            arg1 = [args[i] if i%2==0 else 1/args[i] for i in range(len(args))]\n",
    "            res = 1\n",
    "            for arg in arg1 :\n",
    "                res *=arg\n",
    "            return res\n",
    "    elif kwargs.get('oper') in ['+', 'plus', 'sum', 'add']:\n",
    "        for arg in args:\n",
    "            res +=arg\n",
    "        return res\n",
    "    elif kwargs.get('oper') in ['*', '×', 'multiply', 'product', 'prod']:\n",
    "        res =1\n",
    "        for arg in args:\n",
    "            res *=arg\n",
    "        return res\n",
    "    elif kwargs.get('oper') in ['-', 'minus', 'subtract']:\n",
    "        arg1 = [args[i] if i%2==0 else -args[i] for i in range(len(args))]\n",
    "        for arg in arg1:\n",
    "            res +=arg\n",
    "        return res\n",
    "    elif kwargs.get('oper') in ['/', 'divide', 'quotient']:\n",
    "        if 0 not in args: # 0이 없을 때\n",
    "            arg1 = [args[i] if i%2==0 else 1/args[i] for i in range(len(args))]\n",
    "            res = 1\n",
    "            for arg in arg1 :\n",
    "                res *=arg\n",
    "            return res\n",
    "    else:\n",
    "        return res"
   ]
  },
  {
   "cell_type": "code",
   "execution_count": 11,
   "metadata": {},
   "outputs": [
    {
     "name": "stdout",
     "output_type": "stream",
     "text": [
      "두 수 더하기 4+6 = 10\n",
      "세 숫자 이상 더하기 2+3+(-1)+5= 9\n"
     ]
    }
   ],
   "source": [
    "# 두 숫자 이상 더하기 가능\n",
    "print('두 수 더하기 4+6 =', opernum(4,6,symbol='+'))\n",
    "print('세 숫자 이상 더하기 2+3+(-1)+5=', opernum(2,3,-1,5, symbol='+'))"
   ]
  },
  {
   "cell_type": "code",
   "execution_count": 12,
   "metadata": {},
   "outputs": [
    {
     "name": "stdout",
     "output_type": "stream",
     "text": [
      "두 수 곱하기 4*6= 24\n",
      "세 숫자 이상 곱하기 2*3*(-1)*5= -30\n"
     ]
    }
   ],
   "source": [
    "# 두 숫자 이상 곱하기 가능\n",
    "print('두 수 곱하기 4*6=', opernum(4,6,symbol='*'))\n",
    "print('세 숫자 이상 곱하기 2*3*(-1)*5=', opernum(2,3,-1,5, symbol='*'))"
   ]
  },
  {
   "cell_type": "code",
   "execution_count": null,
   "metadata": {},
   "outputs": [],
   "source": [
    "# 두 숫자 이상 더하기 가능\n",
    "print('두 수 더하기 4+6 =', opernum(4,6,symbol='+'))\n",
    "print('세 숫자 이상 더하기 2+3+(-1)+5=', opernum(2,3,-1,5, symbol='+'))\n",
    "# 두 숫자 이상 곱하기 가능\n",
    "print('두 수 곱하기 4*6=', opernum(4,6,symbol='*'))\n",
    "print('세 숫자 이상 곱하기 2*3*(-1)*5=', opernum(2,3,-1,5, symbol='*'))\n",
    "# argument를 symbol 대신 oper로도 가능.\n",
    "print('argument를 oper로 더하기 25+10=', opernum(25,10,oper='add'))\n",
    "print('argument를 oper로 빼기 25-10=', opernum(25,10,oper='subtract'))\n",
    "print('argument를 oper로 곱하기 25*10=', opernum(25,10,oper='multiply'))\n",
    "print('argument를 oper로 나누기 25/10=', opernum(25,10,oper='divide'))\n"
   ]
  },
  {
   "cell_type": "code",
   "execution_count": 15,
   "metadata": {},
   "outputs": [
    {
     "name": "stdout",
     "output_type": "stream",
     "text": [
      "Meow!\n",
      "<class 'function'>\n",
      "Variable      Type        Data/Info\n",
      "-----------------------------------\n",
      "bark          function    <function bark at 0x00000278CA8AF9D0>\n",
      "description   function    <function description at 0x00000278CA8AF820>\n",
      "helloworld    function    <function helloworld at 0x00000278CA8AF3A0>\n",
      "meow          function    <function meow at 0x00000278CA8AFAF0>\n",
      "multi         function    <function multi at 0x00000278CA8AF1F0>\n",
      "multi2        function    <function multi2 at 0x00000278CA8AF550>\n",
      "opernum       function    <function opernum at 0x00000278CA8AF0D0>\n",
      "roar          function    <function roar at 0x00000278CA8AF5E0>\n",
      "summ          function    <function summ at 0x00000278CA8AF430>\n"
     ]
    }
   ],
   "source": [
    "#함수 - 다른 함수 호출 가능\n",
    "def meow():\n",
    "    print('Meow!')\n",
    "\n",
    "def bark():\n",
    "    print('Bow!')\n",
    "\n",
    "def roar(animal):\n",
    "    if animal.lower() == 'cat':\n",
    "        meow()\n",
    "    elif animal.lower() == 'dog':\n",
    "        bark()\n",
    "\n",
    "roar('cat')\n",
    "\n",
    "# 함수 - 변수 사용 가능합니다.\n",
    "print(type(meow))\n",
    "%whos"
   ]
  },
  {
   "cell_type": "code",
   "execution_count": 16,
   "metadata": {},
   "outputs": [
    {
     "name": "stdout",
     "output_type": "stream",
     "text": [
      "Factorial of 0 : 1\n",
      "Factorial of 1 : 1\n",
      "Factorial of 2 : 2\n",
      "Factorial of 3 : 6\n",
      "Factorial of 4 : 24\n",
      "Factorial of 5 : 120\n",
      "Factorial of 6 : 720\n",
      "Factorial of 7 : 5040\n",
      "Factorial of 8 : 40320\n",
      "Factorial of 9 : 362880\n"
     ]
    }
   ],
   "source": [
    "### 함수 - 재귀가능 ->자신을 이용해서 함수 재정의 가능\n",
    "def factorial(_num):\n",
    "    if str(type(_num)) == \"<class 'int'>\" and _num >= 0 :\n",
    "        if _num == 0: return 1\n",
    "        else: return _num * factorial(_num - 1)\n",
    "\n",
    "for i in range(10):\n",
    "    print(f'Factorial of {i} : {factorial(i)}')"
   ]
  },
  {
   "cell_type": "code",
   "execution_count": 18,
   "metadata": {},
   "outputs": [
    {
     "data": {
      "text/plain": [
       "88749815264600"
      ]
     },
     "execution_count": 18,
     "metadata": {},
     "output_type": "execute_result"
    }
   ],
   "source": [
    "def combi(x,y):\n",
    "    if str(type(x)) == \"<class 'int'>\" and str(type(y)) == \"<class 'int'>\" :\n",
    "        if x<y: return 0 #\n",
    "        elif y == 0 or x == y : return 1\n",
    "        elif y == 1 or y == x-1 : return x\n",
    "        elif y*2 > x : return combi(x, x-y)\n",
    "        else:\n",
    "            return combi(x,y-1)*(x-y+1)//y\n",
    "        # C(n,r) = n!/r!(n-r)! = C(n,r-1)*(n-r+1)/r\n",
    "\n",
    "combi(50,22)"
   ]
  },
  {
   "cell_type": "code",
   "execution_count": 19,
   "metadata": {},
   "outputs": [
    {
     "name": "stdout",
     "output_type": "stream",
     "text": [
      "Ring 1 from Peg 1 to Peg 2\n",
      "Ring 2 from Peg 1 to Peg 3\n",
      "Ring 1 from Peg 2 to Peg 3\n",
      "Ring 3 from Peg 1 to Peg 2\n",
      "Ring 1 from Peg 3 to Peg 1\n",
      "Ring 2 from Peg 3 to Peg 2\n",
      "Ring 1 from Peg 1 to Peg 2\n",
      "Ring 4 from Peg 1 to Peg 3\n",
      "Ring 1 from Peg 2 to Peg 3\n",
      "Ring 2 from Peg 2 to Peg 1\n",
      "Ring 1 from Peg 3 to Peg 1\n",
      "Ring 3 from Peg 2 to Peg 3\n",
      "Ring 1 from Peg 1 to Peg 2\n",
      "Ring 2 from Peg 1 to Peg 3\n",
      "Ring 1 from Peg 2 to Peg 3\n"
     ]
    }
   ],
   "source": [
    "def tower_of_hanoi(num,start=1, empty=2, goal=3):\n",
    "    peg_list = [1,2,3]\n",
    "    ring_list = range(1,num+1)\n",
    "    if num == 1:\n",
    "        print(f'Ring {ring_list[-1]} from Peg {start} to Peg {goal}')\n",
    "    else:\n",
    "        tower_of_hanoi(num - 1, start = start, empty= goal, goal= empty)\n",
    "        print(f'Ring {ring_list[-1]} from Peg {start} to Peg {goal}')\n",
    "        tower_of_hanoi(num -1, start = empty, empty =start, goal = goal)\n",
    "\n",
    "tower_of_hanoi(4)\n",
    "        \n",
    "        \n",
    "        "
   ]
  },
  {
   "cell_type": "markdown",
   "metadata": {},
   "source": [
    "### lambda 키워드 - 함수를 한 줄로 표시할 때 사용할 수 있다.\n",
    "* 사용방법 : ```(lambda (입력값):(정의)) (입력값)```\n",
    "* 예시 :\n",
    ">```\n",
    ">summ = (lambda x,y:x+y)\n",
    ">```"
   ]
  },
  {
   "cell_type": "code",
   "execution_count": 41,
   "metadata": {},
   "outputs": [
    {
     "name": "stdout",
     "output_type": "stream",
     "text": [
      "5.0\n",
      "5.0\n"
     ]
    }
   ],
   "source": [
    "import math\n",
    "# 거리함수\n",
    "distance2 = lambda x, y: math.sqrt(x ** 2 + y ** 2)\n",
    "print(distance2(3,4))\n",
    "#\n",
    "def distance(x,y):\n",
    "    return math.sqrt(x**2+y**2)\n",
    "print(distance(3,4))"
   ]
  },
  {
   "cell_type": "code",
   "execution_count": 22,
   "metadata": {},
   "outputs": [
    {
     "name": "stdout",
     "output_type": "stream",
     "text": [
      "Hello\n"
     ]
    }
   ],
   "source": [
    "helloworld = lambda : print('Hello')\n",
    "helloworld ()"
   ]
  },
  {
   "cell_type": "code",
   "execution_count": 44,
   "metadata": {},
   "outputs": [
    {
     "name": "stdout",
     "output_type": "stream",
     "text": [
      "7\n"
     ]
    }
   ],
   "source": [
    "ranged = lambda _list : max(_list) - min(_list) #최댓값 - 최솟값\n",
    "print(ranged([1,-2,5,3,0,4]))"
   ]
  },
  {
   "cell_type": "code",
   "execution_count": 23,
   "metadata": {},
   "outputs": [
    {
     "name": "stdout",
     "output_type": "stream",
     "text": [
      "5\n",
      "5\n",
      "1\n",
      "1\n",
      "5\n",
      "4.53\n",
      "12320\n"
     ]
    }
   ],
   "source": [
    "#list built-in function\n",
    "#max - 최댓값\n",
    "print(max(1,2,5))\n",
    "print(max([1,2,5]))\n",
    "#min - 최솟값\n",
    "print(min(1,2,5))\n",
    "print(min([1,2,5]))\n",
    "#반올림 함수. 뒤에 변수 가 없으면 정수로 반올림.\n",
    "print(round(4.523 ))\n",
    "print(round(4.528, 2 ))\n",
    "print(round(12324, -1))"
   ]
  }
 ],
 "metadata": {
  "kernelspec": {
   "display_name": "Python 3",
   "language": "python",
   "name": "python3"
  },
  "language_info": {
   "codemirror_mode": {
    "name": "ipython",
    "version": 3
   },
   "file_extension": ".py",
   "mimetype": "text/x-python",
   "name": "python",
   "nbconvert_exporter": "python",
   "pygments_lexer": "ipython3",
   "version": "3.8.3"
  }
 },
 "nbformat": 4,
 "nbformat_minor": 4
}
