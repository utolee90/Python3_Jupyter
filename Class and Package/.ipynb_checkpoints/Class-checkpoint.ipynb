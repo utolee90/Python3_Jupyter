{
 "cells": [
  {
   "cell_type": "markdown",
   "metadata": {},
   "source": [
    "## Class - 함수, 오브젝트를 모은 것\n",
    "* ```class``` 키워드 사용함\n",
    "* 객체 구조\n",
    ">```\n",
    ">class (클래스명) ( (상속받은 클래스)):\n",
    ">   def __init__ (self, 초기값 설정):\n",
    ">       (초기값 정의)\n",
    ">   def (함수) (self, ) #static 아님\n",
    ">   def (함수) () -> static \n",
    ">```\n",
    "* 객체(클래스) - 대문자로 시작하는 것이 관습, CamelCase(띄어쓰기할 때 대문자로 표기)"
   ]
  },
  {
   "cell_type": "code",
   "execution_count": 2,
   "metadata": {},
   "outputs": [],
   "source": [
    "# 클래스 예시 \n",
    "class Student:\n",
    "    \"\"\"\n",
    "    학생에 관한 클래스입니다.\n",
    "    _name : 이름\n",
    "    _grade : 학년\n",
    "    _major : 전공\n",
    "    \"\"\"\n",
    "    \n",
    "    def __init__(self, _name, _major, _grade=1):\n",
    "        \"초기값 정의 함수\"\n",
    "        self.name = _name\n",
    "        self.major = _major if str(type(_major)) ==\"<class 'list'>\" else [_major]\n",
    "        self.grade = _grade\n",
    "        # 접근 가능하지 않은 변수. 졸업여부\n",
    "        self.isgraduated = False\n",
    "    \n",
    "    \n",
    "    def desc(self):\n",
    "        \"학생 정보 설명하는 함수\"\n",
    "        print(\"이름 : {}, 전공 : {}, {}\"\n",
    "             .format(self.name, self.major, '졸업생' if self.isgraduated else str(self.grade)+'학년 재학'))\n",
    "    \n",
    "    def change_major(self, _new):\n",
    "        \"전공 바꾸기\"\n",
    "        self.major = _new if str(type(_new)) ==\"<class 'list'>\" else [_new]\n",
    "    \n",
    "    def promote(self, _grad = False): #학년 진급\n",
    "        \"졸업여부 확인 또는 학년 진급\"\n",
    "        if self.grade == 6 or (self.grade >=4 and _grad ):\n",
    "            \"학년이 6학년 이상이거나 grad 값이 참이면 졸업처리\"\n",
    "            self.isgraduated = True\n",
    "            \n",
    "        else:\n",
    "            \"졸업하지 않으면 학년을 하나 올리기\"\n",
    "            self.grade += 1"
   ]
  },
  {
   "cell_type": "code",
   "execution_count": 4,
   "metadata": {},
   "outputs": [],
   "source": [
    "YH = Student(_name = '이요한', _major= '수학',_grade= 2)"
   ]
  },
  {
   "cell_type": "code",
   "execution_count": 7,
   "metadata": {},
   "outputs": [
    {
     "name": "stdout",
     "output_type": "stream",
     "text": [
      "이름 : 이요한, 전공 : ['수학', '물리'], 2학년 재학\n",
      "이름 : 이요한, 전공 : ['수학', '물리'], 2학년 재학\n"
     ]
    }
   ],
   "source": [
    "YH.change_major(['수학', '물리'])\n",
    "YH.desc()"
   ]
  },
  {
   "cell_type": "code",
   "execution_count": 8,
   "metadata": {},
   "outputs": [
    {
     "name": "stdout",
     "output_type": "stream",
     "text": [
      "이름 : 이요한, 전공 : ['수학', '물리'], 3학년 재학\n"
     ]
    }
   ],
   "source": [
    "YH.promote()\n",
    "YH.desc()"
   ]
  },
  {
   "cell_type": "code",
   "execution_count": 9,
   "metadata": {},
   "outputs": [
    {
     "name": "stdout",
     "output_type": "stream",
     "text": [
      "이름 : 이요한, 전공 : ['수학', '물리'], 4학년 재학\n"
     ]
    }
   ],
   "source": [
    "YH.promote()\n",
    "YH.desc()"
   ]
  },
  {
   "cell_type": "code",
   "execution_count": 10,
   "metadata": {},
   "outputs": [
    {
     "name": "stdout",
     "output_type": "stream",
     "text": [
      "이름 : 이요한, 전공 : ['수학', '물리'], 졸업생\n"
     ]
    }
   ],
   "source": [
    "YH.promote(True)\n",
    "YH.desc()"
   ]
  },
  {
   "cell_type": "code",
   "execution_count": 41,
   "metadata": {},
   "outputs": [
    {
     "name": "stdout",
     "output_type": "stream",
     "text": [
      "이름 : 이요한, 전공 : ['수학'], 2학년 재학\n",
      "이름 : 이요한, 전공 : ['수학', '물리'], 2학년 재학\n",
      "이름 : 이요한, 전공 : ['수학', '물리'], 3학년 재학\n",
      "이름 : 이요한, 전공 : ['수학', '물리'], 4학년 재학\n",
      "이름 : 이요한, 전공 : ['수학', '물리'], 졸업생\n",
      "Help on method desc in module __main__:\n",
      "\n",
      "desc() method of __main__.Student instance\n",
      "    학생 정보 설명하는 함수\n",
      "\n"
     ]
    }
   ],
   "source": [
    "\n",
    "YH.desc()\n",
    "YH.change_major(['수학', '물리'])\n",
    "YH.desc()\n",
    "YH.promote()\n",
    "YH.desc()\n",
    "YH.promote()\n",
    "YH.desc()\n",
    "YH.promote(True)\n",
    "YH.desc()\n",
    "help(YH.desc)"
   ]
  },
  {
   "cell_type": "code",
   "execution_count": 13,
   "metadata": {},
   "outputs": [
    {
     "name": "stdout",
     "output_type": "stream",
     "text": [
      "Help on method desc in module __main__:\n",
      "\n",
      "desc() method of __main__.Student instance\n",
      "    학생 정보 설명하는 함수\n",
      "\n"
     ]
    }
   ],
   "source": [
    "help(YH.desc)"
   ]
  },
  {
   "cell_type": "markdown",
   "metadata": {},
   "source": [
    "### 정적 메소드, 함수 은닉(Private)\n",
    "* 정적인 함수 - 오브젝트에 의존하지 않은 함수\n",
    " * self를 사용하지 않고 함수 앞에 데코레이터 ```@staticmethod``` 사용\n",
    "* 메소드/ 인스턴스 은닉 - 메소드 앞에 *__*가 붙으면 은닉 \n",
    " * 클래스 외부에서는 접근 불가능. 클래스 내부에서만 사용가능.\n",
    "\n",
    "### raise - 에러 메시지를 띄울 때 사용하는 키워드\n",
    "* 사용방법 : ```raise Exception('에러 메시지')``` 형식으로 사용한다."
   ]
  },
  {
   "cell_type": "code",
   "execution_count": 15,
   "metadata": {},
   "outputs": [],
   "source": [
    "class NumOper:\n",
    "    def __init__(self, _first, _second):\n",
    "        self.first = _first\n",
    "        self.second = _second\n",
    "    \n",
    "    @staticmethod\n",
    "    def addnum (x,y):\n",
    "        return x + y\n",
    "    \n",
    "    def numshow (self):\n",
    "        print(f'첫 수 : {self.first}, \\\n",
    "둘째 수 : {self.second}, \\\n",
    "합 : {self.addnum(self.first, self.second)}')\n",
    "              "
   ]
  },
  {
   "cell_type": "code",
   "execution_count": 18,
   "metadata": {},
   "outputs": [
    {
     "name": "stdout",
     "output_type": "stream",
     "text": [
      "첫 수 : 4, 둘째 수 : 5, 합 : 9\n"
     ]
    },
    {
     "ename": "TypeError",
     "evalue": "numshow() missing 1 required positional argument: 'self'",
     "output_type": "error",
     "traceback": [
      "\u001b[1;31m---------------------------------------------------------------------------\u001b[0m",
      "\u001b[1;31mTypeError\u001b[0m                                 Traceback (most recent call last)",
      "\u001b[1;32m<ipython-input-18-0d9dda1581f4>\u001b[0m in \u001b[0;36m<module>\u001b[1;34m\u001b[0m\n\u001b[0;32m      2\u001b[0m \u001b[0mNumobj\u001b[0m\u001b[1;33m.\u001b[0m\u001b[0mnumshow\u001b[0m\u001b[1;33m(\u001b[0m\u001b[1;33m)\u001b[0m\u001b[1;33m\u001b[0m\u001b[1;33m\u001b[0m\u001b[0m\n\u001b[0;32m      3\u001b[0m \u001b[0mNumOper\u001b[0m\u001b[1;33m.\u001b[0m\u001b[0maddnum\u001b[0m\u001b[1;33m(\u001b[0m\u001b[1;36m5\u001b[0m\u001b[1;33m,\u001b[0m\u001b[1;36m7\u001b[0m\u001b[1;33m)\u001b[0m\u001b[1;33m\u001b[0m\u001b[1;33m\u001b[0m\u001b[0m\n\u001b[1;32m----> 4\u001b[1;33m \u001b[0mNumOper\u001b[0m\u001b[1;33m.\u001b[0m\u001b[0mnumshow\u001b[0m\u001b[1;33m(\u001b[0m\u001b[1;33m)\u001b[0m\u001b[1;33m\u001b[0m\u001b[1;33m\u001b[0m\u001b[0m\n\u001b[0m",
      "\u001b[1;31mTypeError\u001b[0m: numshow() missing 1 required positional argument: 'self'"
     ]
    }
   ],
   "source": [
    "Numobj = NumOper(4, 5)\n",
    "Numobj.numshow()\n",
    "NumOper.addnum(5,7)\n",
    "NumOper.numshow()"
   ]
  },
  {
   "cell_type": "code",
   "execution_count": 20,
   "metadata": {},
   "outputs": [],
   "source": [
    "# 클래스 예시\n",
    "class Car:\n",
    "    \"\"\"\n",
    "    자동차 모델을 클래스로 정의합니다. 변수명의 의미는 다음과 같습니다.\n",
    "    _model : 자동차 \n",
    "    _color : 자동차 색상. 기본은 검은색입니다.\n",
    "    _type : 자동차 종류. 다음 중 하나만 지정하실 수 있습니다 : \n",
    "            ['세단', '해치백', '왜건', 'SUV', 'RV', '쿠페', '스포츠카', '승합차', '트럭'] \n",
    "    _size : 자동차 배기량입니다. cc로 표시합니다.\n",
    "    _manufacturer : 자동차 제조사를 지정합니다.\n",
    "    _fuel : 자동차를 구동시키는 연료입니다. 다음 중 하나의 인스턴스 혹은 다음 리스트의 부분 리스트만 사용가능합니다 :\n",
    "            ['가솔린', '디젤', 'LPG', 'CNG', '전기', '수소']\n",
    "    \"\"\"\n",
    "    # 클래스와 관계 없이 정의되는 고정된 인스턴스  \n",
    "    __type_list = ['세단', '해치백', '왜건', 'SUV', 'RV', '쿠페', '스포츠카', '승합차', '트럭']\n",
    "    __fuel_list = ['가솔린', '디젤', 'LPG', 'CNG', '전기', '수소']\n",
    "    \n",
    "    @staticmethod # decorator, 오브젝트에 의존하지 않는 함수. __ -> 은닉되어서 외부에서 건드리지 못함.\n",
    "    def __isfuel(_val): #static 함수.\n",
    "        _fuel_list = ['가솔린', '디젤', 'LPG', 'CNG', '전기', '수소']\n",
    "        res = False\n",
    "        if _val in _fuel_list:\n",
    "            res = True\n",
    "        elif str(type(_val)) == \"<class 'list'>\":\n",
    "            res = True\n",
    "            for ele in _val:\n",
    "                res = res and (ele in _fuel_list)\n",
    "        \n",
    "        return res\n",
    "\n",
    "\n",
    "    def __init__(self, _model, _color='검은색', _manufacturer='현대차', _type ='세단', _size= 480, _fuel = '가솔린'):\n",
    "        \"함수의 초기값을 지정합니다.\"\n",
    "        _type_list = self.__type_list\n",
    "        _fuel_list = self.__fuel_list\n",
    "        isfuel = self.__isfuel\n",
    "        self.model = _model\n",
    "        self.color = _color\n",
    "        self.manufacturer = _manufacturer\n",
    "        self.size = _size\n",
    "        # 연료 리스트 안에 넣기 위한 예외처리\n",
    "        if _type in _type_list:\n",
    "            self.type = _type\n",
    "        else:\n",
    "            raise Exception(\"지정된 차종만 type의 값으로 지정가능합니다 : \\n\\\n",
    "            ['세단', '해치백', '왜건', 'SUV', 'RV', '쿠페', '스포츠카', '승합차', '트럭'] \")\n",
    "        if isfuel(_fuel):\n",
    "            self.fuel = _fuel\n",
    "        else:\n",
    "            raise Exception(\"지정된 연료 중 하나, 혹은 부분 리스트만 fuel의 값으로 지정가능합니다 : \\n\\\n",
    "            ['가솔린', '디젤', 'LPG', 'CNG', '전기', '수소']\")\n",
    "        # 클래스의 인스턴스 초기값은 지정됩니다. \n",
    "        self.driven = 0\n",
    "        self.speed = 0\n",
    "        self.max_guage = _size // 8\n",
    "        self.fuel_guage = self.max_guage #초반엔 연료 채운 상태로\n",
    "\n",
    "    \n",
    "    # 클래스 의존 함수\n",
    "    def info(self):\n",
    "        \"차량의 정보를 제공합니다.\"\n",
    "        print(f'모델명 : {self.model}, 차 색상 : {self.color}, \\\n",
    " 차 분류 : {self.type}, 제조사 : {self.manufacturer}, 연료 : {self.fuel}' )\n",
    "    \n",
    "    # 차량 상태\n",
    "    def status(self):\n",
    "        \"차량의 상태를 설명합니다.\"\n",
    "        print(f'주행거리 : {self.driven}km, 주행속도 : {self.speed}km/h, 연료량 : {self.fuel_guage:5}')\n",
    "    \n",
    "    #주행 -> _driven만큼 주행\n",
    "    def drive(self, _speed, _hr=1): \n",
    "        \"일정 속도 _speed로 _hr만큼 주행할 때\"\n",
    "        if self.fuel_guage > _speed * _hr / 10: #주행거리가 연료량으로 해결 가능할 때. \n",
    "            self.speed = _speed\n",
    "            self.driven += _speed * _hr\n",
    "            self.fuel_guage -= _speed *_hr /10\n",
    "            print(f'차량은 {_speed}km/h 속력으로 {_hr}시간 주행중.')\n",
    "        else:\n",
    "            raise Exception('연료 부족으로 주행불가!')\n",
    "    \n",
    "    def stop(self):\n",
    "        \"차량 멈출 때 사용\"\n",
    "        self.speed = 0\n",
    "        print('차량 정차중.')\n",
    "    \n",
    "    def charge(self, _q = 1000):\n",
    "        \"연료 채울 때 사용\"\n",
    "        if self.speed == 0 : #차량 멈출때만 사용\n",
    "            if 0 < _q < self.max_guage - self.fuel_guage :\n",
    "                self.fuel_guage += _q\n",
    "                print(f'현재 연료량 : {self.fuel_guage}/{self.max_guage}')\n",
    "            elif _q >= self.max_guage - self.fuel_guage :\n",
    "                self.fuel_guage = self.max_guage\n",
    "                print('연료가 가득찼습니다!')\n",
    "            else:\n",
    "                raise Exception('연료 채울 양인 올바른 숫자를 입력하세요!')\n",
    "        else:\n",
    "            raise Exception('일단 차량이 멈추어야 충전 가능합니다!')\n",
    "        \n",
    "        \n",
    "            \n",
    "    \n",
    "    \n",
    "        "
   ]
  },
  {
   "cell_type": "code",
   "execution_count": 21,
   "metadata": {},
   "outputs": [],
   "source": [
    "Sonata = Car('쏘나타', _color='하양색')\n"
   ]
  },
  {
   "cell_type": "code",
   "execution_count": 22,
   "metadata": {},
   "outputs": [
    {
     "name": "stdout",
     "output_type": "stream",
     "text": [
      "모델명 : 쏘나타, 차 색상 : 하양색,  차 분류 : 세단, 제조사 : 현대차, 연료 : 가솔린\n",
      "주행거리 : 0km, 주행속도 : 0km/h, 연료량 :    60\n"
     ]
    }
   ],
   "source": [
    "Sonata.info()\n",
    "Sonata.status()"
   ]
  },
  {
   "cell_type": "code",
   "execution_count": 23,
   "metadata": {},
   "outputs": [
    {
     "name": "stdout",
     "output_type": "stream",
     "text": [
      "차량은 50km/h 속력으로 10시간 주행중.\n",
      "주행거리 : 500km, 주행속도 : 50km/h, 연료량 :  10.0\n"
     ]
    }
   ],
   "source": [
    "Sonata.drive(50, 10)\n",
    "Sonata.status()\n"
   ]
  },
  {
   "cell_type": "code",
   "execution_count": 24,
   "metadata": {},
   "outputs": [
    {
     "name": "stdout",
     "output_type": "stream",
     "text": [
      "차량 정차중.\n",
      "주행거리 : 500km, 주행속도 : 0km/h, 연료량 :  10.0\n"
     ]
    }
   ],
   "source": [
    "Sonata.stop()\n",
    "Sonata.status()"
   ]
  },
  {
   "cell_type": "code",
   "execution_count": 25,
   "metadata": {},
   "outputs": [
    {
     "name": "stdout",
     "output_type": "stream",
     "text": [
      "연료가 가득찼습니다!\n"
     ]
    }
   ],
   "source": [
    "Sonata.charge()"
   ]
  },
  {
   "cell_type": "code",
   "execution_count": 26,
   "metadata": {},
   "outputs": [
    {
     "name": "stdout",
     "output_type": "stream",
     "text": [
      "주행거리 : 500km, 주행속도 : 0km/h, 연료량 :    60\n"
     ]
    }
   ],
   "source": [
    "Sonata.status()"
   ]
  },
  {
   "cell_type": "code",
   "execution_count": 27,
   "metadata": {},
   "outputs": [
    {
     "name": "stdout",
     "output_type": "stream",
     "text": [
      "차량은 80km/h 속력으로 3시간 주행중.\n"
     ]
    }
   ],
   "source": [
    "Sonata.drive(80, 3)"
   ]
  },
  {
   "cell_type": "code",
   "execution_count": 28,
   "metadata": {},
   "outputs": [
    {
     "ename": "Exception",
     "evalue": "일단 차량이 멈추어야 충전 가능합니다!",
     "output_type": "error",
     "traceback": [
      "\u001b[1;31m---------------------------------------------------------------------------\u001b[0m",
      "\u001b[1;31mException\u001b[0m                                 Traceback (most recent call last)",
      "\u001b[1;32m<ipython-input-28-9d57a702ac25>\u001b[0m in \u001b[0;36m<module>\u001b[1;34m\u001b[0m\n\u001b[1;32m----> 1\u001b[1;33m \u001b[0mSonata\u001b[0m\u001b[1;33m.\u001b[0m\u001b[0mcharge\u001b[0m\u001b[1;33m(\u001b[0m\u001b[1;33m)\u001b[0m\u001b[1;33m\u001b[0m\u001b[1;33m\u001b[0m\u001b[0m\n\u001b[0m",
      "\u001b[1;32m<ipython-input-20-6de76931354e>\u001b[0m in \u001b[0;36mcharge\u001b[1;34m(self, _q)\u001b[0m\n\u001b[0;32m     96\u001b[0m                 \u001b[1;32mraise\u001b[0m \u001b[0mException\u001b[0m\u001b[1;33m(\u001b[0m\u001b[1;34m'연료 채울 양인 올바른 숫자를 입력하세요!'\u001b[0m\u001b[1;33m)\u001b[0m\u001b[1;33m\u001b[0m\u001b[1;33m\u001b[0m\u001b[0m\n\u001b[0;32m     97\u001b[0m         \u001b[1;32melse\u001b[0m\u001b[1;33m:\u001b[0m\u001b[1;33m\u001b[0m\u001b[1;33m\u001b[0m\u001b[0m\n\u001b[1;32m---> 98\u001b[1;33m             \u001b[1;32mraise\u001b[0m \u001b[0mException\u001b[0m\u001b[1;33m(\u001b[0m\u001b[1;34m'일단 차량이 멈추어야 충전 가능합니다!'\u001b[0m\u001b[1;33m)\u001b[0m\u001b[1;33m\u001b[0m\u001b[1;33m\u001b[0m\u001b[0m\n\u001b[0m\u001b[0;32m     99\u001b[0m \u001b[1;33m\u001b[0m\u001b[0m\n\u001b[0;32m    100\u001b[0m \u001b[1;33m\u001b[0m\u001b[0m\n",
      "\u001b[1;31mException\u001b[0m: 일단 차량이 멈추어야 충전 가능합니다!"
     ]
    }
   ],
   "source": [
    "Sonata.charge()"
   ]
  },
  {
   "cell_type": "code",
   "execution_count": 29,
   "metadata": {},
   "outputs": [
    {
     "name": "stdout",
     "output_type": "stream",
     "text": [
      "차량 정차중.\n"
     ]
    }
   ],
   "source": [
    "Sonata.stop()"
   ]
  },
  {
   "cell_type": "code",
   "execution_count": 30,
   "metadata": {},
   "outputs": [
    {
     "name": "stdout",
     "output_type": "stream",
     "text": [
      "연료가 가득찼습니다!\n"
     ]
    }
   ],
   "source": [
    "Sonata.charge()"
   ]
  },
  {
   "cell_type": "code",
   "execution_count": 31,
   "metadata": {},
   "outputs": [
    {
     "ename": "AttributeError",
     "evalue": "'Car' object has no attribute '__isfuel'",
     "output_type": "error",
     "traceback": [
      "\u001b[1;31m---------------------------------------------------------------------------\u001b[0m",
      "\u001b[1;31mAttributeError\u001b[0m                            Traceback (most recent call last)",
      "\u001b[1;32m<ipython-input-31-307fc429218b>\u001b[0m in \u001b[0;36m<module>\u001b[1;34m\u001b[0m\n\u001b[1;32m----> 1\u001b[1;33m \u001b[0mSonata\u001b[0m\u001b[1;33m.\u001b[0m\u001b[0m__isfuel\u001b[0m\u001b[1;33m(\u001b[0m\u001b[1;34m'가솔린'\u001b[0m\u001b[1;33m)\u001b[0m\u001b[1;33m\u001b[0m\u001b[1;33m\u001b[0m\u001b[0m\n\u001b[0m",
      "\u001b[1;31mAttributeError\u001b[0m: 'Car' object has no attribute '__isfuel'"
     ]
    }
   ],
   "source": [
    "Sonata.__isfuel('가솔린')"
   ]
  },
  {
   "cell_type": "code",
   "execution_count": 32,
   "metadata": {},
   "outputs": [
    {
     "ename": "AttributeError",
     "evalue": "'Car' object has no attribute 'isfuel'",
     "output_type": "error",
     "traceback": [
      "\u001b[1;31m---------------------------------------------------------------------------\u001b[0m",
      "\u001b[1;31mAttributeError\u001b[0m                            Traceback (most recent call last)",
      "\u001b[1;32m<ipython-input-32-f9bd4963946a>\u001b[0m in \u001b[0;36m<module>\u001b[1;34m\u001b[0m\n\u001b[1;32m----> 1\u001b[1;33m \u001b[0mSonata\u001b[0m\u001b[1;33m.\u001b[0m\u001b[0misfuel\u001b[0m\u001b[1;33m(\u001b[0m\u001b[1;34m'가솔린'\u001b[0m\u001b[1;33m)\u001b[0m\u001b[1;33m\u001b[0m\u001b[1;33m\u001b[0m\u001b[0m\n\u001b[0m",
      "\u001b[1;31mAttributeError\u001b[0m: 'Car' object has no attribute 'isfuel'"
     ]
    }
   ],
   "source": [
    "Sonata.isfuel('가솔린')"
   ]
  },
  {
   "cell_type": "code",
   "execution_count": 33,
   "metadata": {},
   "outputs": [
    {
     "name": "stdout",
     "output_type": "stream",
     "text": [
      "60 60\n"
     ]
    }
   ],
   "source": [
    "print(Sonata.max_guage, Sonata.fuel_guage)"
   ]
  },
  {
   "cell_type": "code",
   "execution_count": 36,
   "metadata": {},
   "outputs": [],
   "source": [
    "Sonata.max_guage = 75"
   ]
  },
  {
   "cell_type": "code",
   "execution_count": 37,
   "metadata": {},
   "outputs": [
    {
     "name": "stdout",
     "output_type": "stream",
     "text": [
      "75 60\n"
     ]
    }
   ],
   "source": [
    "print(Sonata.max_guage, Sonata.fuel_guage)"
   ]
  },
  {
   "cell_type": "code",
   "execution_count": 101,
   "metadata": {},
   "outputs": [
    {
     "name": "stdout",
     "output_type": "stream",
     "text": [
      "주행거리 : 0km, 주행속도 : 0km/h, 연료량 :    60\n",
      "모델명 : 쏘나타, 차 색상 : 하양색,  차 분류 : 세단, 제조사 : 현대차, 연료 : 가솔린\n",
      "차량은 20km/h 속력으로 2시간 주행중.\n",
      "주행거리 : 40km, 주행속도 : 20km/h, 연료량 :  56.0\n",
      "차량 정차중.\n",
      "주행거리 : 40km, 주행속도 : 0km/h, 연료량 :  56.0\n",
      "연료가 가득찼습니다!\n",
      "주행거리 : 40km, 주행속도 : 0km/h, 연료량 :    60\n",
      "40\n",
      "차량은 40km/h 속력으로 6시간 주행중.\n",
      "60 36.0\n"
     ]
    }
   ],
   "source": [
    "Sonata = Car('쏘나타', _color='하양색')\n",
    "Sonata.status()\n",
    "Sonata.info()\n",
    "Sonata.drive(20,2)\n",
    "Sonata.status()\n",
    "Sonata.stop()\n",
    "Sonata.status()\n",
    "Sonata.charge()\n",
    "Sonata.status()\n",
    "print(Sonata.driven)\n",
    "dir(Sonata)\n",
    "Sonata.drive(40,6)\n",
    "print(Sonata.max_guage, Sonata.fuel_guage)"
   ]
  },
  {
   "cell_type": "code",
   "execution_count": 68,
   "metadata": {},
   "outputs": [
    {
     "ename": "AttributeError",
     "evalue": "'Car' object has no attribute '__isfuel'",
     "output_type": "error",
     "traceback": [
      "\u001b[1;31m---------------------------------------------------------------------------\u001b[0m",
      "\u001b[1;31mAttributeError\u001b[0m                            Traceback (most recent call last)",
      "\u001b[1;32m<ipython-input-68-307fc429218b>\u001b[0m in \u001b[0;36m<module>\u001b[1;34m\u001b[0m\n\u001b[1;32m----> 1\u001b[1;33m \u001b[0mSonata\u001b[0m\u001b[1;33m.\u001b[0m\u001b[0m__isfuel\u001b[0m\u001b[1;33m(\u001b[0m\u001b[1;34m'가솔린'\u001b[0m\u001b[1;33m)\u001b[0m\u001b[1;33m\u001b[0m\u001b[1;33m\u001b[0m\u001b[0m\n\u001b[0m",
      "\u001b[1;31mAttributeError\u001b[0m: 'Car' object has no attribute '__isfuel'"
     ]
    }
   ],
   "source": [
    "Sonata.__isfuel('가솔린')"
   ]
  },
  {
   "cell_type": "markdown",
   "metadata": {},
   "source": [
    "### 클래스 상속 \n",
    "- 클래스 명에 (부모 클래스) 이름 붙이기\n",
    "- 상속된 클래스는 부모의 메소드, 인스턴스를 사용할 수 있다.\n",
    "- 덮어쓰기(override)를 통해 재정의도 가능"
   ]
  },
  {
   "cell_type": "code",
   "execution_count": 38,
   "metadata": {},
   "outputs": [],
   "source": [
    "class ElectricCar(Car):\n",
    "    \"\"\"\n",
    "    전기자동차에 관한 클래스입니다.\n",
    "    \"\"\"\n",
    "    def __init__(self, _model, _color='검은색', _manufacturer='테슬라', _type ='세단', _size= 480):\n",
    "        _fuel = '전기'\n",
    "        super(ElectricCar, self).__init__(_model, _color, _manufacturer, _type, _size, _fuel) #fuel은 전기로 고정\n",
    "        self.max_guage = _size // 10 # 재정의\n",
    "        self.fuel_guage = self.max_guage #초반엔 연료 채운 상태로\n",
    "    \n",
    "    def discharge(self, _q):\n",
    "        \"전기 공급을 위해 방전시키는 모드\"\n",
    "        if self.speed == 0 :\n",
    "            if 0 < _q < self.fuel_guage :\n",
    "                self.fuel_guage -= _q\n",
    "                print(f'{_q}만큼 방전중')\n",
    "            elif _q >= self.fuel_guage :\n",
    "                print(f'{_q}만큼 방전불가! 에너지 부족')\n",
    "            else:\n",
    "                raise Exception('방전시킬 양입니다. 올바른 숫자를 입력하세요!')\n",
    "        else:\n",
    "            raise Exception('일단 정지 상태여야 방전 가능합니다!')\n",
    "    \n",
    "    \n",
    "    "
   ]
  },
  {
   "cell_type": "code",
   "execution_count": 39,
   "metadata": {},
   "outputs": [],
   "source": [
    "ModelS=ElectricCar('Model S', _color='검은색', _size=500)"
   ]
  },
  {
   "cell_type": "code",
   "execution_count": 41,
   "metadata": {},
   "outputs": [
    {
     "name": "stdout",
     "output_type": "stream",
     "text": [
      "모델명 : Model S, 차 색상 : 검은색,  차 분류 : 세단, 제조사 : 테슬라, 연료 : 전기\n",
      "주행거리 : 0km, 주행속도 : 0km/h, 연료량 :    50\n"
     ]
    }
   ],
   "source": [
    "ModelS.info()\n",
    "ModelS.status()"
   ]
  },
  {
   "cell_type": "code",
   "execution_count": 42,
   "metadata": {},
   "outputs": [
    {
     "name": "stdout",
     "output_type": "stream",
     "text": [
      "차량은 40km/h 속력으로 5시간 주행중.\n"
     ]
    }
   ],
   "source": [
    "ModelS.drive(40,5)"
   ]
  },
  {
   "cell_type": "code",
   "execution_count": 43,
   "metadata": {},
   "outputs": [
    {
     "name": "stdout",
     "output_type": "stream",
     "text": [
      "주행거리 : 200km, 주행속도 : 40km/h, 연료량 :  30.0\n"
     ]
    }
   ],
   "source": [
    "ModelS.status()"
   ]
  },
  {
   "cell_type": "code",
   "execution_count": 44,
   "metadata": {},
   "outputs": [
    {
     "name": "stdout",
     "output_type": "stream",
     "text": [
      "차량 정차중.\n"
     ]
    }
   ],
   "source": [
    "ModelS.stop()"
   ]
  },
  {
   "cell_type": "code",
   "execution_count": 45,
   "metadata": {},
   "outputs": [
    {
     "name": "stdout",
     "output_type": "stream",
     "text": [
      "주행거리 : 200km, 주행속도 : 0km/h, 연료량 :  30.0\n"
     ]
    }
   ],
   "source": [
    "ModelS.status()"
   ]
  },
  {
   "cell_type": "code",
   "execution_count": 46,
   "metadata": {},
   "outputs": [
    {
     "name": "stdout",
     "output_type": "stream",
     "text": [
      "현재 연료량 : 40.0/50\n"
     ]
    }
   ],
   "source": [
    "ModelS.charge(10)"
   ]
  },
  {
   "cell_type": "code",
   "execution_count": 104,
   "metadata": {},
   "outputs": [
    {
     "name": "stdout",
     "output_type": "stream",
     "text": [
      "모델명 : Model S, 차 색상 : 검은색,  차 분류 : 세단, 제조사 : 테슬라, 연료 : 전기\n",
      "주행거리 : 0km, 주행속도 : 0km/h, 연료량 :    50\n",
      "차량은 40km/h 속력으로 3시간 주행중.\n",
      "주행거리 : 120km, 주행속도 : 40km/h, 연료량 :  38.0\n",
      "차량 정차중.\n",
      "연료가 가득찼습니다!\n",
      "주행거리 : 120km, 주행속도 : 0km/h, 연료량 :    50\n"
     ]
    }
   ],
   "source": [
    "ModelS=ElectricCar('Model S', _color='검은색', _size=500)\n",
    "ModelS.info()\n",
    "ModelS.status()\n",
    "ModelS.drive(40,3)\n",
    "ModelS.status()\n",
    "ModelS.stop()\n",
    "ModelS.charge()\n",
    "ModelS.status()"
   ]
  }
 ],
 "metadata": {
  "kernelspec": {
   "display_name": "Python 3",
   "language": "python",
   "name": "python3"
  },
  "language_info": {
   "codemirror_mode": {
    "name": "ipython",
    "version": 3
   },
   "file_extension": ".py",
   "mimetype": "text/x-python",
   "name": "python",
   "nbconvert_exporter": "python",
   "pygments_lexer": "ipython3",
   "version": "3.8.3"
  }
 },
 "nbformat": 4,
 "nbformat_minor": 4
}
