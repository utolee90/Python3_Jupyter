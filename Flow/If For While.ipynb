{
 "cells": [
  {
   "cell_type": "markdown",
   "metadata": {},
   "source": [
    "# if문 사용 예시\n",
    "* if문은 Python에서 분기할 때 사용한다. \n",
    "* 문장 형식 :\n",
    ">```\n",
    ">if (조건):\n",
    ">    (조건 만족시 수행문)\n",
    ">else :\n",
    ">    (조건 불만족시 수행문)\n",
    ">```\n",
    "\n",
    "* 조건문 - 참/거짓을 확실히 알 수 있어야 한다.\n",
    "> ```\n",
    ">if True: print('True'): \n",
    ">\n",
    "> if  x > 4: print(f'{x} is a large number')\n",
    ">```"
   ]
  },
  {
   "cell_type": "code",
   "execution_count": 5,
   "metadata": {},
   "outputs": [
    {
     "name": "stdout",
     "output_type": "stream",
     "text": [
      "점수 입력100\n",
      "grade : A\n"
     ]
    }
   ],
   "source": [
    "#if, for, while\n",
    "#if -> 나눌 때 사용\n",
    "#python - 블록단위로 처리\n",
    "#직접 텍스트 에디터에 입력할 때는 스페이스바 4칸으로 처리 \n",
    "\n",
    "#예시 - 점수별 등급\n",
    "score = int(input('점수 입력'))\n",
    "if 0 <= score <= 100 :\n",
    "    if score >= 90 :\n",
    "        print('grade : A')\n",
    "    elif score >= 80 :\n",
    "        print('grade : B')\n",
    "    elif score >= 70 :\n",
    "        print('grade : C')\n",
    "    elif score >=60 :\n",
    "        print('grade : D')\n",
    "    else :\n",
    "        print('grade : F')\n",
    "else:\n",
    "    print('You should input correct score')\n",
    "        "
   ]
  },
  {
   "cell_type": "code",
   "execution_count": 7,
   "metadata": {},
   "outputs": [
    {
     "name": "stdout",
     "output_type": "stream",
     "text": [
      "Input Chracter : 5\n",
      "5 is not an alphabet.\n"
     ]
    }
   ],
   "source": [
    "#if ~ in list 형식도 가능\n",
    "alphabet = [chr(i) for i in list(range(65,91)) + list(range(97,123))]\n",
    "x = input('Input Chracter : ')\n",
    "if x in alphabet: \n",
    "    print(f'{x} is an alphabet.')\n",
    "else : \n",
    "    print(f'{x} is not an alphabet.')"
   ]
  },
  {
   "cell_type": "markdown",
   "metadata": {},
   "source": [
    "## 삼항 연산자\n",
    "* A if (condition) else B 형식으로 사용\n",
    "* 조건을 만족하면 A, 조건을 만족하지 못하면 B 출력\n",
    "* Javascript나 C언어 등에서 **```(condition)?A:B```** 와 동일한 형식\n",
    "* 예시\n",
    ">```\n",
    ">sign = '양수' if x>0 else '음수'\n",
    ">\n",
    ">sign = '양수' if x>0 else ('음수' if x<0 else '0')\n",
    ">```"
   ]
  },
  {
   "cell_type": "code",
   "execution_count": 9,
   "metadata": {},
   "outputs": [
    {
     "name": "stdout",
     "output_type": "stream",
     "text": [
      "Input a number whatever you want : -34\n",
      "-\n"
     ]
    }
   ],
   "source": [
    "#오류 방지를 위해 처리 과정 추가\n",
    "import re\n",
    "x = input('Input a number whatever you want : ')\n",
    "sgn = None\n",
    "if bool(re.match(r'\\A(-)?[0-9,]+(\\.[0-9]*)?(e(\\+|-)[0-9]+)?\\Z', x)): #숫자 형식 확인\n",
    "    sgn = '+' if float(x)>0 else ( '-' if float(x)<0 else '0')\n",
    "print(sgn)"
   ]
  },
  {
   "cell_type": "markdown",
   "metadata": {},
   "source": [
    "# for문 사용\n",
    "* 반복작업시 사용합니다. \n",
    "* 다른 언어와는 달리 리스트 안에서만 수행가능. (리스트/튜플/딕셔너리/오브젝트 목록 등 ...)\n",
    ">```    \n",
    ">for (element) in (list):  \n",
    ">    (do_process)\n",
    ">```\n"
   ]
  },
  {
   "cell_type": "code",
   "execution_count": 10,
   "metadata": {},
   "outputs": [],
   "source": [
    "#for문이 돌릴 수 있는 대상 - 리스트, 튜플, 딕셔너리, 집합 (iterable)\n",
    "import re\n",
    "str1 = \"Hi! I am Yohan\"\n",
    "list1 = [1,3,6,10,15,21]\n",
    "tup1= (1,2,3,4,5,6)\n",
    "dict1 = {1:'Anteater', 2:'Bat', 3:'Cat', 4:'Dog', 5:'Elephant', 6:'Fox', 7:'Giraffe'}\n",
    "set1 = {2,3,5,7}\n",
    "range1 = range(2,11,2)\n",
    "lorem_ipsum = '''Lorem ipsum dolor sit amet, \n",
    "consectetur adipisicing elit, \n",
    "sed do eiusmod tempor incididunt ut labore et dolore magna aliqua. \n",
    "Ut enim ad minim veniam, \n",
    "quis nostrud exercitation ullamco laboris nisi ut aliquip ex ea commodo consequat. \n",
    "Duis aute irure dolor in reprehenderit in voluptate velit esse cillum dolore eu fugiat nulla pariatur. \n",
    "Excepteur sint occaecat cupidatat non proident, \n",
    "sunt in culpa qui officia deserunt mollit anim id est laborum.\n",
    "'''\n",
    "iter1 = re.finditer(r'[A-Za-z]+', lorem_ipsum)"
   ]
  },
  {
   "cell_type": "code",
   "execution_count": 14,
   "metadata": {},
   "outputs": [
    {
     "name": "stdout",
     "output_type": "stream",
     "text": [
      "\n",
      "String is iterable : H, i, !,  , I,  , a, m,  , Y, o, h, a, n, \n",
      "List is iterable : 1, 3, 6, 10, 15, 21, \n",
      "Dictionary is iterable : 1, 2, 3, 4, 5, 6, 7, \n",
      "Set is iterable : 2, 3, 5, 7, "
     ]
    }
   ],
   "source": [
    "print('\\nString is iterable :', end=' ')\n",
    "for i in str1:\n",
    "    print(i, end=', ')\n",
    "print('\\nList is iterable :', end=' ')\n",
    "for i in list1:\n",
    "    print(i, end=', ')\n",
    "print('\\nDictionary is iterable :', end=' ')\n",
    "for i in dict1:\n",
    "    print(i, end=', ')\n",
    "print('\\nSet is iterable :', end=' ')\n",
    "for i in set1:\n",
    "    print(i, end=', ')"
   ]
  },
  {
   "cell_type": "code",
   "execution_count": 18,
   "metadata": {},
   "outputs": [
    {
     "name": "stdout",
     "output_type": "stream",
     "text": [
      "\n",
      "String is iterable : H, i, !,  , I,  , a, m,  , Y, o, h, a, n, \n",
      "List is iterable : 1, 3, 6, 10, 15, 21, \n",
      "Tuple is iterable : 1, 2, 3, 4, 5, 6, \n",
      "Dictionary is iterable : 1, 2, 3, 4, 5, 6, 7, \n",
      "Set is iterable : 2, 3, 5, 7, \n",
      "Range is iterable : 2, 4, 6, 8, 10, \n",
      "You can get RegExp Iterable objects list. : Lorem, ipsum, dolor, sit, amet, consectetur, adipisicing, elit, sed, do, eiusmod, tempor, incididunt, ut, labore, et, dolore, magna, aliqua, Ut, enim, ad, minim, veniam, quis, nostrud, exercitation, ullamco, laboris, nisi, ut, aliquip, ex, ea, commodo, consequat, Duis, aute, irure, dolor, in, reprehenderit, in, voluptate, velit, esse, cillum, dolore, eu, fugiat, nulla, pariatur, Excepteur, sint, occaecat, cupidatat, non, proident, sunt, in, culpa, qui, officia, deserunt, mollit, anim, id, est, laborum, "
     ]
    }
   ],
   "source": [
    "print('\\nString is iterable :', end=' ')\n",
    "for i in str1:\n",
    "    print(i, end=', ')\n",
    "print('\\nList is iterable :', end=' ')\n",
    "for i in list1:\n",
    "    print(i, end=', ')\n",
    "print('\\nTuple is iterable :', end=' ')\n",
    "for i in tup1:\n",
    "    print(i, end=', ')\n",
    "print('\\nDictionary is iterable :', end=' ')\n",
    "for i in dict1:\n",
    "    print(i, end=', ')\n",
    "print('\\nSet is iterable :', end=' ')\n",
    "for i in set1:\n",
    "    print(i, end=', ')\n",
    "print('\\nRange is iterable :', end=' ')\n",
    "for i in range1:\n",
    "    print(i, end=', ')\n",
    "print('\\nYou can get RegExp Iterable objects list. : ', end='')\n",
    "for i in iter1:\n",
    "    print(i.group(0), end=', ')"
   ]
  },
  {
   "cell_type": "code",
   "execution_count": 22,
   "metadata": {},
   "outputs": [
    {
     "name": "stdout",
     "output_type": "stream",
     "text": [
      "3\n"
     ]
    }
   ],
   "source": [
    "#iter 함수 - iterable 함수 각 개체 확인\n",
    "iter_list = iter(list1)\n",
    "next(iter_list)\n",
    "print(next(iter_list))\n"
   ]
  },
  {
   "cell_type": "markdown",
   "metadata": {},
   "source": [
    "## comprehension - for문 이용해서 리스트나 딕셔너리 간편하게 정의 가능\n",
    "* **```[(formula) for (condition) in (list) [if (condition]]```** 형식으로 표현가능 "
   ]
  },
  {
   "cell_type": "code",
   "execution_count": 17,
   "metadata": {},
   "outputs": [
    {
     "name": "stdout",
     "output_type": "stream",
     "text": [
      "10번째까지 삼각수 : [1, 3, 6, 10, 15, 21, 28, 36, 45, 55]\n",
      "(1, 3, 6, 10, 15, 21, 28, 36, 45, 55) {1, 3, 36, 6, 10, 45, 15, 21, 55, 28}\n"
     ]
    }
   ],
   "source": [
    "# 삼각수 (1+2+3+4+...) 공식 n(n+1)/2\n",
    "tri_list = [(i*(i+1)//2) for i in range(1,11)]\n",
    "print(f'10번째까지 삼각수 : {tri_list}')\n",
    "# if를 이용해서 거를 수도 있다. \n",
    "tupx = (*tri_list,)\n",
    "setx = {*tri_list}\n",
    "print(tupx, setx)"
   ]
  },
  {
   "cell_type": "code",
   "execution_count": 18,
   "metadata": {},
   "outputs": [
    {
     "name": "stdout",
     "output_type": "stream",
     "text": [
      "100 이하 소수 : [2, 3, 5, 7, 11, 13, 17, 19, 23, 29, 31, 37, 41, 43, 47, 53, 59, 61, 67, 71, 73, 79, 83, 89, 97]\n",
      "[4, 1, 10, 2, 16, 3, 22, 4, 28, 5, 34, 6, 40, 7, 46, 8, 52, 9, 58, 10]\n"
     ]
    }
   ],
   "source": [
    "\n",
    "# if를 이용해서 거를 수도 있다. \n",
    "def isprime (_num): #소수인지 판별하는 함수 \n",
    "    res = None\n",
    "    if str(type(_num)) == \"<class 'int'>\":\n",
    "        if _num in [-1,0,1]:\n",
    "            res = False\n",
    "            pass\n",
    "        elif _num < 0 : #음수일 때는 양수로 체크 \n",
    "            res = isprime(-1*_num)\n",
    "        else:\n",
    "            if _num in [2,3]:\n",
    "                res = True\n",
    "            else:\n",
    "                res = True\n",
    "                i = 2 # 2부터 나눗셈 시작\n",
    "                while i*i <= _num :\n",
    "                    if _num%i == 0 :\n",
    "                        res = False\n",
    "                        break\n",
    "                    i += 1\n",
    "\n",
    "    return res \n",
    "\n",
    "prime_list = [i for i in range(1,101) if isprime(i)]\n",
    "print(f'100 이하 소수 : {prime_list}')\n",
    "\n",
    "#process if/else 결합 가능\n",
    "processed_list = [(3*i+1 if i%2==1 else i//2) for i in range(1,21)]\n",
    "print(processed_list)"
   ]
  },
  {
   "cell_type": "code",
   "execution_count": 82,
   "metadata": {},
   "outputs": [
    {
     "name": "stdout",
     "output_type": "stream",
     "text": [
      "{1, 2, 3, 4, 5, 6, 7, 8, 9}\n",
      "(1, 2, 3, 4, 5, 6, 7, 8, 9)\n"
     ]
    }
   ],
   "source": [
    "#내포 : set도 가능\n",
    "print({j for j in range(1,10)})\n",
    "print(tuple(j for j in range(1,10)))"
   ]
  },
  {
   "cell_type": "markdown",
   "metadata": {},
   "source": [
    "# While문 사용\n",
    "* 컨디션 안의 내용을 반복 작업 수행시 사용.\n",
    ">```    \n",
    ">while (condition):  \n",
    ">    (do_process)\n",
    ">```\n"
   ]
  },
  {
   "cell_type": "code",
   "execution_count": 83,
   "metadata": {},
   "outputs": [
    {
     "name": "stdout",
     "output_type": "stream",
     "text": [
      "1\n",
      "2\n",
      "4\n",
      "8\n",
      "16\n",
      "32\n",
      "64\n"
     ]
    }
   ],
   "source": [
    "inx = 1\n",
    "while inx<100:\n",
    "    print(inx)\n",
    "    inx += inx"
   ]
  },
  {
   "cell_type": "code",
   "execution_count": 22,
   "metadata": {},
   "outputs": [
    {
     "name": "stdout",
     "output_type": "stream",
     "text": [
      "2단 : 2×1=2    ;2×2=4    ;2×3=6    ;2×4=8    ;2×5=10   ;2×6=12   ;2×7=14   ;2×8=16   ;2×9=18   ;\n",
      "3단 : 3×1=3    ;3×2=6    ;3×3=9    ;3×4=12   ;3×5=15   ;3×6=18   ;3×7=21   ;3×8=24   ;3×9=27   ;\n",
      "4단 : 4×1=4    ;4×2=8    ;4×3=12   ;4×4=16   ;4×5=20   ;4×6=24   ;4×7=28   ;4×8=32   ;4×9=36   ;\n",
      "5단 : 5×1=5    ;5×2=10   ;5×3=15   ;5×4=20   ;5×5=25   ;5×6=30   ;5×7=35   ;5×8=40   ;5×9=45   ;\n",
      "6단 : 6×1=6    ;6×2=12   ;6×3=18   ;6×4=24   ;6×5=30   ;6×6=36   ;6×7=42   ;6×8=48   ;6×9=54   ;\n",
      "7단 : 7×1=7    ;7×2=14   ;7×3=21   ;7×4=28   ;7×5=35   ;7×6=42   ;7×7=49   ;7×8=56   ;7×9=63   ;\n",
      "8단 : 8×1=8    ;8×2=16   ;8×3=24   ;8×4=32   ;8×5=40   ;8×6=48   ;8×7=56   ;8×8=64   ;8×9=72   ;\n",
      "9단 : 9×1=9    ;9×2=18   ;9×3=27   ;9×4=36   ;9×5=45   ;9×6=54   ;9×7=63   ;9×8=72   ;9×9=81   ;\n"
     ]
    }
   ],
   "source": [
    "i = 2\n",
    "while i in range(2, 10):\n",
    "    print(f'{i}단', end=' : ')\n",
    "    j = 1\n",
    "    while j in range(1, 10):\n",
    "        print(f'{i}×{j}={i*j:<5}', end=';')\n",
    "        j += 1\n",
    "    i += 1\n",
    "    print()"
   ]
  },
  {
   "cell_type": "markdown",
   "metadata": {},
   "source": [
    "## Break / Continue/ Pass\n",
    "* break - 강제탈출시 사용\n",
    "* continue - 루프 탈출하지 않고 수행하지 않음.\n",
    "* pass - 아무 일도 수행하지 않는다. \n",
    "* Python - goto 같은 거 없다."
   ]
  },
  {
   "cell_type": "code",
   "execution_count": 86,
   "metadata": {},
   "outputs": [
    {
     "name": "stdout",
     "output_type": "stream",
     "text": [
      "1, 2, 4, 5, 7, 8, 10, 11, 12, 14, 15, 17, 18, 20, 21, 22, 24, 25, 27, 28, 40, 41, 42, 44, 45, 47, 48, 50, 51, 52, 54, 55, 57, 58, 70, 71, 72, 74, 75, 77, 78, 80, 81, 82, 84, 85, 87, 88, "
     ]
    }
   ],
   "source": [
    "#숫자 3,6,9가 들어간 숫자는 출력 안함. \n",
    "inx = 0\n",
    "\n",
    "while True: #강제 무한루프\n",
    "    inx += 1\n",
    "    if inx == 100:\n",
    "        break\n",
    "    elif str(inx).find('3') + str(inx).find('6') + str(inx).find('9') != -3: #3,6,9 중 하나는 존재\n",
    "        continue\n",
    "    else:\n",
    "        pass\n",
    "    print(inx, end=', ')\n",
    "    "
   ]
  }
 ],
 "metadata": {
  "kernelspec": {
   "display_name": "Python 3",
   "language": "python",
   "name": "python3"
  },
  "language_info": {
   "codemirror_mode": {
    "name": "ipython",
    "version": 3
   },
   "file_extension": ".py",
   "mimetype": "text/x-python",
   "name": "python",
   "nbconvert_exporter": "python",
   "pygments_lexer": "ipython3",
   "version": "3.8.3"
  }
 },
 "nbformat": 4,
 "nbformat_minor": 4
}
