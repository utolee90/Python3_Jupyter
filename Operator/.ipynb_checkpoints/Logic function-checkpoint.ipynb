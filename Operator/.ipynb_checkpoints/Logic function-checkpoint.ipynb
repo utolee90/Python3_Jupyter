{
 "cells": [
  {
   "cell_type": "code",
   "execution_count": null,
   "metadata": {},
   "outputs": [],
   "source": [
    "#comparative\n",
    "\n",
    "print(f'4>3 = {4>3}, 4<=5 = {4<=5}, 5.2>6 = {5.2>6}')"
   ]
  },
  {
   "cell_type": "code",
   "execution_count": null,
   "metadata": {},
   "outputs": [],
   "source": [
    "# and, or, not \n",
    "print(f\"{'x':<6}{'y':<6}{'x and y':<8}{'x or y':<8}{'not x':<8}\")\n",
    "for x in [True, False]:\n",
    "    for y in [True, False]:\n",
    "        print(f\"{str(x):6}{str(y):<6}{str(x and y):<8}{str(x or y):<8}{str(not x):<8}\")\n"
   ]
  },
  {
   "cell_type": "code",
   "execution_count": null,
   "metadata": {},
   "outputs": [],
   "source": [
    "#if, while -> 참 거짓만 가린다.\n",
    "lix = [0,1,None,[],\"\", \"0\", set(), [0], {0},dict(), 0.0, -0.1, '-', \"4\", ()]\n",
    "null_list = []\n",
    "for ele in lix: \n",
    "    if not(ele):  #false로 할당되는 것만 채운다. \n",
    "        null_list.append(ele)\n",
    "print(null_list)"
   ]
  },
  {
   "cell_type": "code",
   "execution_count": null,
   "metadata": {},
   "outputs": [],
   "source": [
    "#list 관련 함수\n",
    "[x for x in dir(list()) if x[0]!='_']"
   ]
  },
  {
   "cell_type": "code",
   "execution_count": null,
   "metadata": {},
   "outputs": [],
   "source": [
    "#append : 추가\n",
    "x = [1,2,3]\n",
    "print(x)\n",
    "x.append(5)\n",
    "print(x)\n",
    "# clear 원소 전부 없애기\n",
    "#count - 숫자 세기\n",
    "y = [1,5,3,2,1,4,2,1]\n",
    "print(f'y는 1을 {y.count(1)}만큼 포함')\n",
    "# extend - 여러 원소더하기. + 쓰는 것이 더 간편.\n",
    "x.extend([-1,-2])\n",
    "print(f'-1, -2 더하면 x는 {x}처럼 변함')\n",
    "# index 원소가 있을 때 인덱스 찾기\n",
    "print(f'2가 처음 나오는 시점 : {y.index(2)}')\n",
    "# insert - 특정 인덱스에 집어넣기. append보다 더 강력 append(x) = insert(-1,x)\n",
    "x.insert(3,-2)\n",
    "print(f'x[3]에 -2 집어넣기 : {x} ')\n",
    "# pop - 원소 끄집어내서 지우기 \n",
    "print(f'x[3]번째 원소 {x.pop(3)}.')\n",
    "print(f'바뀐 후 x의 값 : {x}')\n",
    "#copy 복사\n",
    "z = x.copy()\n",
    "print(z)\n",
    "#reverse - 내림차순 정렬\n",
    "# sort - 오름차순 정렬 - 내용 바꾸어버립니다! \n",
    "x.sort()\n",
    "print(f'x 강제정렬하면 {x}')\n",
    "#바꾸지 않으려면 sorted 함수 사용\n",
    "print(f'y 바꾸지 않고 정렬하는 함수값 도출 : {sorted(y)}')\n",
    "print(f'y 안 바뀐 것 확인 {y}')\n",
    "print(f'내림차순도 가능 : {sorted(y,reverse=True )}')"
   ]
  },
  {
   "cell_type": "code",
   "execution_count": null,
   "metadata": {},
   "outputs": [],
   "source": [
    "z = {1:'xno', 2:'ksx', -1:'kppp'}\n",
    "sorted(z)"
   ]
  },
  {
   "cell_type": "code",
   "execution_count": null,
   "metadata": {},
   "outputs": [],
   "source": [
    "#스트링 관련 함수\n",
    "pan=\"A quick brown fox jumps over the lazy dog.\"\n",
    "[x for x in dir(pan) if x[0]!='_']"
   ]
  },
  {
   "cell_type": "code",
   "execution_count": null,
   "metadata": {},
   "outputs": [],
   "source": [
    "#count \n",
    "print(pan.count('a'))"
   ]
  },
  {
   "cell_type": "code",
   "execution_count": null,
   "metadata": {},
   "outputs": [],
   "source": [
    "'a'.isascii()"
   ]
  },
  {
   "cell_type": "code",
   "execution_count": null,
   "metadata": {},
   "outputs": [],
   "source": [
    "'a%'.isascii()"
   ]
  },
  {
   "cell_type": "code",
   "execution_count": null,
   "metadata": {},
   "outputs": [],
   "source": [
    "ord('$')"
   ]
  },
  {
   "cell_type": "code",
   "execution_count": null,
   "metadata": {},
   "outputs": [],
   "source": [
    "for i in range(32,127): \n",
    "    try: #chr -> ascii 코드 확인 함수\n",
    "        print(f'Ascii {i} : {chr(i)}')\n",
    "    except:\n",
    "        pass"
   ]
  },
  {
   "cell_type": "code",
   "execution_count": null,
   "metadata": {},
   "outputs": [],
   "source": [
    "print(pan.upper())"
   ]
  },
  {
   "cell_type": "code",
   "execution_count": null,
   "metadata": {},
   "outputs": [],
   "source": [
    "print(pan.lower())"
   ]
  },
  {
   "cell_type": "code",
   "execution_count": null,
   "metadata": {},
   "outputs": [],
   "source": [
    "print(pan.replace('jumps', 'jumped'))"
   ]
  },
  {
   "cell_type": "code",
   "execution_count": null,
   "metadata": {},
   "outputs": [],
   "source": [
    "space_str ='   big space   '\n",
    "print(space_str.strip()+' space out')"
   ]
  },
  {
   "cell_type": "code",
   "execution_count": null,
   "metadata": {},
   "outputs": [],
   "source": [
    "# isalpha 알파벳만으로\n",
    "print('4.3'.isalpha())\n",
    "print('한글'.isalpha())\n",
    "print('カナ'.isalpha())"
   ]
  },
  {
   "cell_type": "code",
   "execution_count": null,
   "metadata": {},
   "outputs": [],
   "source": [
    "# startwith, endswith - 검사\n",
    "print(pan.startswith('A'))\n",
    "print(pan.endswith('.'))\n",
    "print(pan.endswith('g'))"
   ]
  },
  {
   "cell_type": "code",
   "execution_count": null,
   "metadata": {},
   "outputs": [],
   "source": [
    "# istitle 대문자 시작\n",
    "print(pan.istitle())"
   ]
  },
  {
   "cell_type": "code",
   "execution_count": null,
   "metadata": {},
   "outputs": [],
   "source": [
    "'Tex Live'.istitle()"
   ]
  },
  {
   "cell_type": "code",
   "execution_count": null,
   "metadata": {},
   "outputs": [],
   "source": [
    "'TEX LIve'.istitle()"
   ]
  },
  {
   "cell_type": "code",
   "execution_count": null,
   "metadata": {},
   "outputs": [],
   "source": [
    "# split - 문자열 나누어서 리스트로\n",
    "newstr = 'IV, V, Vi, VII, VIII, IX, X'\n",
    "newlis = newstr.split(', ')\n",
    "for x in newlis:\n",
    "    print(f'value: {x}')\n",
    "#partition - 주어진 문자열 기준으로 앞뒤로 나누기\n",
    "print(newstr.partition(', '))"
   ]
  },
  {
   "cell_type": "code",
   "execution_count": null,
   "metadata": {},
   "outputs": [],
   "source": [
    "#dict 관련 함수 \n",
    "[x for x in dir(dict()) if x[0]!='_']"
   ]
  },
  {
   "cell_type": "code",
   "execution_count": null,
   "metadata": {},
   "outputs": [],
   "source": [
    "#get - 값 얻기\n",
    "newdict = {'a': '수재', 'b': '우등생', 'c': '평범', 'd': '미달', 'f': '낙제자', 's': '절세가인', 'x': '괴짜'}"
   ]
  },
  {
   "cell_type": "code",
   "execution_count": null,
   "metadata": {},
   "outputs": [],
   "source": [
    "print(f'a키값 : {newdict.get(\"a\")}, t키값 : {newdict.get(\"t\", \"값없음\")}' )"
   ]
  },
  {
   "cell_type": "code",
   "execution_count": null,
   "metadata": {},
   "outputs": [],
   "source": [
    "# keys, values, items - 키값, 밸류값, (키값,밸류값) 리스트 출력\n",
    "\n",
    "print('키값;',newdict.keys())\n",
    "print('밸류값;',newdict.values())\n",
    "print('튜플값:',newdict.items())"
   ]
  },
  {
   "cell_type": "code",
   "execution_count": null,
   "metadata": {},
   "outputs": [],
   "source": [
    "for key in newdict.keys():\n",
    "    print(f'{key} : {newdict[key]}')"
   ]
  },
  {
   "cell_type": "code",
   "execution_count": null,
   "metadata": {},
   "outputs": [],
   "source": []
  }
 ],
 "metadata": {
  "kernelspec": {
   "display_name": "Python 3",
   "language": "python",
   "name": "python3"
  },
  "language_info": {
   "codemirror_mode": {
    "name": "ipython",
    "version": 3
   },
   "file_extension": ".py",
   "mimetype": "text/x-python",
   "name": "python",
   "nbconvert_exporter": "python",
   "pygments_lexer": "ipython3",
   "version": "3.8.3"
  }
 },
 "nbformat": 4,
 "nbformat_minor": 4
}
