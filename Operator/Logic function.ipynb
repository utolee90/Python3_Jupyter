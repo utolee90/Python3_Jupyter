{
 "cells": [
  {
   "cell_type": "code",
   "execution_count": 1,
   "metadata": {},
   "outputs": [
    {
     "name": "stdout",
     "output_type": "stream",
     "text": [
      "4>3 = True, 4<=5 = True, 5.2>6 = False\n"
     ]
    }
   ],
   "source": [
    "#comparative\n",
    "\n",
    "print(f'4>3 = {4>3}, 4<=5 = {4<=5}, 5.2>6 = {5.2>6}')"
   ]
  },
  {
   "cell_type": "code",
   "execution_count": 8,
   "metadata": {},
   "outputs": [
    {
     "name": "stdout",
     "output_type": "stream",
     "text": [
      "True\n",
      "97 90\n"
     ]
    }
   ],
   "source": [
    "'ax'<'bT'\n",
    "print('a'>'Z')\n",
    "print(ord('a'), ord('Z'))"
   ]
  },
  {
   "cell_type": "code",
   "execution_count": 9,
   "metadata": {},
   "outputs": [
    {
     "name": "stdout",
     "output_type": "stream",
     "text": [
      "True\n"
     ]
    }
   ],
   "source": [
    "print([1,5]>[0,14233,2345,1354])"
   ]
  },
  {
   "cell_type": "code",
   "execution_count": 10,
   "metadata": {},
   "outputs": [
    {
     "data": {
      "text/plain": [
       "False"
      ]
     },
     "execution_count": 10,
     "metadata": {},
     "output_type": "execute_result"
    }
   ],
   "source": [
    "True and False"
   ]
  },
  {
   "cell_type": "code",
   "execution_count": 11,
   "metadata": {},
   "outputs": [
    {
     "data": {
      "text/plain": [
       "True"
      ]
     },
     "execution_count": 11,
     "metadata": {},
     "output_type": "execute_result"
    }
   ],
   "source": [
    "True or False"
   ]
  },
  {
   "cell_type": "code",
   "execution_count": 12,
   "metadata": {},
   "outputs": [
    {
     "data": {
      "text/plain": [
       "0"
      ]
     },
     "execution_count": 12,
     "metadata": {},
     "output_type": "execute_result"
    }
   ],
   "source": [
    "3 and 0"
   ]
  },
  {
   "cell_type": "code",
   "execution_count": 13,
   "metadata": {},
   "outputs": [
    {
     "data": {
      "text/plain": [
       "1"
      ]
     },
     "execution_count": 13,
     "metadata": {},
     "output_type": "execute_result"
    }
   ],
   "source": [
    "3 and 1"
   ]
  },
  {
   "cell_type": "code",
   "execution_count": 14,
   "metadata": {},
   "outputs": [
    {
     "data": {
      "text/plain": [
       "3"
      ]
     },
     "execution_count": 14,
     "metadata": {},
     "output_type": "execute_result"
    }
   ],
   "source": [
    "4 and 3"
   ]
  },
  {
   "cell_type": "code",
   "execution_count": 15,
   "metadata": {},
   "outputs": [
    {
     "data": {
      "text/plain": [
       "False"
      ]
     },
     "execution_count": 15,
     "metadata": {},
     "output_type": "execute_result"
    }
   ],
   "source": [
    "4<5 and 3>4"
   ]
  },
  {
   "cell_type": "code",
   "execution_count": 16,
   "metadata": {},
   "outputs": [
    {
     "data": {
      "text/plain": [
       "3"
      ]
     },
     "execution_count": 16,
     "metadata": {},
     "output_type": "execute_result"
    }
   ],
   "source": [
    "3 or 9"
   ]
  },
  {
   "cell_type": "code",
   "execution_count": 17,
   "metadata": {},
   "outputs": [
    {
     "data": {
      "text/plain": [
       "5"
      ]
     },
     "execution_count": 17,
     "metadata": {},
     "output_type": "execute_result"
    }
   ],
   "source": [
    "2 and 5"
   ]
  },
  {
   "cell_type": "code",
   "execution_count": 18,
   "metadata": {},
   "outputs": [
    {
     "data": {
      "text/plain": [
       "True"
      ]
     },
     "execution_count": 18,
     "metadata": {},
     "output_type": "execute_result"
    }
   ],
   "source": [
    "4==3 or 'a'!=4"
   ]
  },
  {
   "cell_type": "code",
   "execution_count": 20,
   "metadata": {},
   "outputs": [
    {
     "data": {
      "text/plain": [
       "True"
      ]
     },
     "execution_count": 20,
     "metadata": {},
     "output_type": "execute_result"
    }
   ],
   "source": [
    "range(4) != [0,1,2,3]"
   ]
  },
  {
   "cell_type": "code",
   "execution_count": 21,
   "metadata": {},
   "outputs": [
    {
     "name": "stdout",
     "output_type": "stream",
     "text": [
      "x     y     x and y x or y  not x   \n",
      "True  True  True    True    False   \n",
      "True  False False   True    False   \n",
      "False True  False   True    True    \n",
      "False False False   False   True    \n"
     ]
    }
   ],
   "source": [
    "# and, or, not \n",
    "print(f\"{'x':<6}{'y':<6}{'x and y':<8}{'x or y':<8}{'not x':<8}\")\n",
    "for x in [True, False]:\n",
    "    for y in [True, False]:\n",
    "        print(f\"{str(x):6}{str(y):<6}{str(x and y):<8}{str(x or y):<8}{str(not x):<8}\")\n"
   ]
  },
  {
   "cell_type": "code",
   "execution_count": 24,
   "metadata": {},
   "outputs": [
    {
     "name": "stdout",
     "output_type": "stream",
     "text": [
      "True\n",
      "False\n"
     ]
    }
   ],
   "source": [
    "print(f'{True}')\n",
    "print(f'{2>3 and 1<2}')"
   ]
  },
  {
   "cell_type": "code",
   "execution_count": 25,
   "metadata": {},
   "outputs": [
    {
     "name": "stdout",
     "output_type": "stream",
     "text": [
      "[0, None, [], '', set(), {}, 0.0, ()]\n"
     ]
    }
   ],
   "source": [
    "#if, while -> 참 거짓만 가린다.\n",
    "lix = [0,1,None,[],\"\", \"0\", set(), [0], {0},dict(), 0.0, -0.1, '-', \"4\", ()]\n",
    "null_list = []\n",
    "for ele in lix: \n",
    "    if not(ele):  #false로 할당되는 것만 채운다. \n",
    "        null_list.append(ele)\n",
    "print(null_list)"
   ]
  },
  {
   "cell_type": "code",
   "execution_count": 28,
   "metadata": {},
   "outputs": [
    {
     "data": {
      "text/plain": [
       "['append',\n",
       " 'clear',\n",
       " 'copy',\n",
       " 'count',\n",
       " 'extend',\n",
       " 'index',\n",
       " 'insert',\n",
       " 'pop',\n",
       " 'remove',\n",
       " 'reverse',\n",
       " 'sort']"
      ]
     },
     "execution_count": 28,
     "metadata": {},
     "output_type": "execute_result"
    }
   ],
   "source": [
    "#list 관련 함수\n",
    "[x for x in dir(list()) if x[0]!='_']"
   ]
  },
  {
   "cell_type": "code",
   "execution_count": 31,
   "metadata": {},
   "outputs": [
    {
     "name": "stdout",
     "output_type": "stream",
     "text": [
      "[1, 2, 3]\n",
      "[1, 2, 3, 5]\n",
      "[1, 2, 3, 5]\n",
      "[1, 2, 3, 5]\n",
      "5\n",
      "[1, 2, 3]\n"
     ]
    }
   ],
   "source": [
    "#append : 추가\n",
    "x = [1,2,3]\n",
    "print(x)\n",
    "x.append(5)\n",
    "print(x)\n",
    "#copy 복사\n",
    "z = x.copy()\n",
    "print(z)\n",
    "print(x)\n",
    "#pop\n",
    "x0=x.pop(-1)\n",
    "print(x0)\n",
    "print(x)"
   ]
  },
  {
   "cell_type": "code",
   "execution_count": null,
   "metadata": {},
   "outputs": [],
   "source": [
    "#append : 추가\n",
    "x = [1,2,3]\n",
    "print(x)\n",
    "x.append(5)\n",
    "print(x)\n",
    "# clear 원소 전부 없애기\n",
    "#count - 숫자 세기\n",
    "y = [1,5,3,2,1,4,2,1]\n",
    "print(f'y는 1을 {y.count(1)}만큼 포함')\n",
    "# extend - 여러 원소더하기. + 쓰는 것이 더 간편.\n",
    "x.extend([-1,-2])\n",
    "print(f'-1, -2 더하면 x는 {x}처럼 변함')\n",
    "# index 원소가 있을 때 인덱스 찾기\n",
    "print(f'2가 처음 나오는 시점 : {y.index(2)}')\n",
    "# insert - 특정 인덱스에 집어넣기. append보다 더 강력 append(x) = insert(-1,x)\n",
    "x.insert(3,-2)\n",
    "print(f'x[3]에 -2 집어넣기 : {x} ')\n",
    "# pop - 원소 끄집어내서 지우기 \n",
    "print(f'x[3]번째 원소 {x.pop(3)}.')\n",
    "print(f'바뀐 후 x의 값 : {x}')\n",
    "#copy 복사\n",
    "z = x.copy()\n",
    "print(z)\n",
    "#reverse - 내림차순 정렬\n",
    "# sort - 오름차순 정렬 - 내용 바꾸어버립니다! \n",
    "x.sort()\n",
    "print(f'x 강제정렬하면 {x}')\n",
    "#바꾸지 않으려면 sorted 함수 사용\n",
    "print(f'y 바꾸지 않고 정렬하는 함수값 도출 : {sorted(y)}')\n",
    "print(f'y 안 바뀐 것 확인 {y}')\n",
    "print(f'내림차순도 가능 : {sorted(y,reverse=True )}')"
   ]
  },
  {
   "cell_type": "code",
   "execution_count": 33,
   "metadata": {},
   "outputs": [
    {
     "name": "stdout",
     "output_type": "stream",
     "text": [
      "[2, 7, 5, 4] [2, 4, 5, 7]\n"
     ]
    }
   ],
   "source": [
    "x1 = [2,7,5,4]\n",
    "y1 = sorted(x1)\n",
    "print(x1, y1)"
   ]
  },
  {
   "cell_type": "code",
   "execution_count": 34,
   "metadata": {},
   "outputs": [
    {
     "data": {
      "text/plain": [
       "[-1, 1, 2]"
      ]
     },
     "execution_count": 34,
     "metadata": {},
     "output_type": "execute_result"
    }
   ],
   "source": [
    "z = {1:'xno', 2:'ksx', -1:'kppp'}\n",
    "sorted(z)"
   ]
  },
  {
   "cell_type": "code",
   "execution_count": 35,
   "metadata": {},
   "outputs": [
    {
     "data": {
      "text/plain": [
       "['capitalize',\n",
       " 'casefold',\n",
       " 'center',\n",
       " 'count',\n",
       " 'encode',\n",
       " 'endswith',\n",
       " 'expandtabs',\n",
       " 'find',\n",
       " 'format',\n",
       " 'format_map',\n",
       " 'index',\n",
       " 'isalnum',\n",
       " 'isalpha',\n",
       " 'isascii',\n",
       " 'isdecimal',\n",
       " 'isdigit',\n",
       " 'isidentifier',\n",
       " 'islower',\n",
       " 'isnumeric',\n",
       " 'isprintable',\n",
       " 'isspace',\n",
       " 'istitle',\n",
       " 'isupper',\n",
       " 'join',\n",
       " 'ljust',\n",
       " 'lower',\n",
       " 'lstrip',\n",
       " 'maketrans',\n",
       " 'partition',\n",
       " 'replace',\n",
       " 'rfind',\n",
       " 'rindex',\n",
       " 'rjust',\n",
       " 'rpartition',\n",
       " 'rsplit',\n",
       " 'rstrip',\n",
       " 'split',\n",
       " 'splitlines',\n",
       " 'startswith',\n",
       " 'strip',\n",
       " 'swapcase',\n",
       " 'title',\n",
       " 'translate',\n",
       " 'upper',\n",
       " 'zfill']"
      ]
     },
     "execution_count": 35,
     "metadata": {},
     "output_type": "execute_result"
    }
   ],
   "source": [
    "#스트링 관련 함수\n",
    "pan=\"A quick brown fox jumps over the lazy dog.\"\n",
    "[x for x in dir(pan) if x[0]!='_']"
   ]
  },
  {
   "cell_type": "code",
   "execution_count": 36,
   "metadata": {},
   "outputs": [
    {
     "name": "stdout",
     "output_type": "stream",
     "text": [
      "1\n",
      "34\n"
     ]
    }
   ],
   "source": [
    "#count \n",
    "print(pan.count('a'))\n",
    "print(pan.find('a'))"
   ]
  },
  {
   "cell_type": "code",
   "execution_count": null,
   "metadata": {},
   "outputs": [],
   "source": [
    "'a'.isascii()"
   ]
  },
  {
   "cell_type": "code",
   "execution_count": null,
   "metadata": {},
   "outputs": [],
   "source": [
    "'a%'.isascii()"
   ]
  },
  {
   "cell_type": "code",
   "execution_count": 37,
   "metadata": {
    "scrolled": true
   },
   "outputs": [
    {
     "data": {
      "text/plain": [
       "36"
      ]
     },
     "execution_count": 37,
     "metadata": {},
     "output_type": "execute_result"
    }
   ],
   "source": [
    "ord('$')"
   ]
  },
  {
   "cell_type": "code",
   "execution_count": null,
   "metadata": {},
   "outputs": [],
   "source": [
    "for i in range(32,127): \n",
    "    try: #chr -> ascii 코드 확인 함수\n",
    "        print(f'Ascii {i} : {chr(i)}')\n",
    "    except:\n",
    "        pass"
   ]
  },
  {
   "cell_type": "code",
   "execution_count": 39,
   "metadata": {},
   "outputs": [
    {
     "name": "stdout",
     "output_type": "stream",
     "text": [
      "A QUICK BROWN FOX JUMPS OVER THE LAZY DOG.\n",
      "A quick brown fox jumps over the lazy dog.\n"
     ]
    }
   ],
   "source": [
    "print(pan.upper())\n",
    "print(pan)"
   ]
  },
  {
   "cell_type": "code",
   "execution_count": 40,
   "metadata": {},
   "outputs": [
    {
     "name": "stdout",
     "output_type": "stream",
     "text": [
      "a quick brown fox jumps over the lazy dog.\n"
     ]
    }
   ],
   "source": [
    "print(pan.lower())"
   ]
  },
  {
   "cell_type": "code",
   "execution_count": 41,
   "metadata": {},
   "outputs": [
    {
     "name": "stdout",
     "output_type": "stream",
     "text": [
      "A quick brown fox jumped over the lazy dog.\n",
      "A quick brown fox jumps over the lazy dog.\n"
     ]
    }
   ],
   "source": [
    "print(pan.replace('jumps', 'jumped'))\n",
    "print(pan)"
   ]
  },
  {
   "cell_type": "code",
   "execution_count": 42,
   "metadata": {},
   "outputs": [
    {
     "name": "stdout",
     "output_type": "stream",
     "text": [
      "   big space   \n",
      "big space space out\n"
     ]
    }
   ],
   "source": [
    "space_str ='   big space   '\n",
    "print(space_str)\n",
    "print(space_str.strip()+' space out')"
   ]
  },
  {
   "cell_type": "code",
   "execution_count": null,
   "metadata": {},
   "outputs": [],
   "source": [
    "# isalpha 알파벳만으로\n",
    "print('4.3'.isalpha())\n",
    "print('한글'.isalpha())\n",
    "print('カナ'.isalpha())"
   ]
  },
  {
   "cell_type": "code",
   "execution_count": 43,
   "metadata": {},
   "outputs": [
    {
     "name": "stdout",
     "output_type": "stream",
     "text": [
      "True\n",
      "True\n",
      "False\n"
     ]
    }
   ],
   "source": [
    "# startwith, endswith - 검사\n",
    "print(pan.startswith('A'))\n",
    "print(pan.endswith('.'))\n",
    "print(pan.endswith('g'))"
   ]
  },
  {
   "cell_type": "code",
   "execution_count": 44,
   "metadata": {},
   "outputs": [
    {
     "name": "stdout",
     "output_type": "stream",
     "text": [
      "False\n"
     ]
    }
   ],
   "source": [
    "# istitle 대문자 시작\n",
    "print(pan.istitle())"
   ]
  },
  {
   "cell_type": "code",
   "execution_count": null,
   "metadata": {},
   "outputs": [],
   "source": [
    "'Tex Live'.istitle()"
   ]
  },
  {
   "cell_type": "code",
   "execution_count": null,
   "metadata": {},
   "outputs": [],
   "source": [
    "'TEX LIve'.istitle()"
   ]
  },
  {
   "cell_type": "code",
   "execution_count": 47,
   "metadata": {},
   "outputs": [
    {
     "name": "stdout",
     "output_type": "stream",
     "text": [
      "['IV', 'V', 'Vi', 'VII', 'VIII', 'IX', 'X']\n",
      "value: IV\n",
      "value: V\n",
      "value: Vi\n",
      "value: VII\n",
      "value: VIII\n",
      "value: IX\n",
      "value: X\n",
      "('IV', ', ', 'V, Vi, VII, VIII, IX, X')\n",
      "IV;V;Vi;VII;VIII;IX;X\n"
     ]
    }
   ],
   "source": [
    "# split - 문자열 나누어서 리스트로\n",
    "newstr = 'IV, V, Vi, VII, VIII, IX, X'\n",
    "newlis = newstr.split(', ')\n",
    "print(newlis)\n",
    "for x in newlis:\n",
    "    print(f'value: {x}')\n",
    "#partition - 주어진 문자열 기준으로 앞뒤로 나누기\n",
    "print(newstr.partition(', '))\n",
    "#join -\n",
    "newstr2 = ';'.join(newlis)\n",
    "print(newstr2)"
   ]
  },
  {
   "cell_type": "code",
   "execution_count": 48,
   "metadata": {},
   "outputs": [
    {
     "data": {
      "text/plain": [
       "['clear',\n",
       " 'copy',\n",
       " 'fromkeys',\n",
       " 'get',\n",
       " 'items',\n",
       " 'keys',\n",
       " 'pop',\n",
       " 'popitem',\n",
       " 'setdefault',\n",
       " 'update',\n",
       " 'values']"
      ]
     },
     "execution_count": 48,
     "metadata": {},
     "output_type": "execute_result"
    }
   ],
   "source": [
    "#dict 관련 함수 \n",
    "[x for x in dir(dict()) if x[0]!='_']"
   ]
  },
  {
   "cell_type": "code",
   "execution_count": 50,
   "metadata": {},
   "outputs": [],
   "source": [
    "#get - 값 얻기\n",
    "newdict = {'a': '수재', 'b': '우등생', 'c': '평범', 'd': '미달', 'f': '낙제자', 's': '절세가인', 'x': '괴짜'}"
   ]
  },
  {
   "cell_type": "code",
   "execution_count": 53,
   "metadata": {},
   "outputs": [
    {
     "name": "stdout",
     "output_type": "stream",
     "text": [
      "a키값 : 수재, t키값 : 값없음\n"
     ]
    }
   ],
   "source": [
    "#get - 키값에 해당되는 값 찾기\n",
    "print(f'a키값 : {newdict.get(\"a\")}, t키값 : {newdict.get(\"t\", \"값없음\")}' )"
   ]
  },
  {
   "cell_type": "code",
   "execution_count": 54,
   "metadata": {},
   "outputs": [
    {
     "name": "stdout",
     "output_type": "stream",
     "text": [
      "키값; dict_keys(['a', 'b', 'c', 'd', 'f', 's', 'x'])\n",
      "밸류값; dict_values(['수재', '우등생', '평범', '미달', '낙제자', '절세가인', '괴짜'])\n",
      "튜플값: dict_items([('a', '수재'), ('b', '우등생'), ('c', '평범'), ('d', '미달'), ('f', '낙제자'), ('s', '절세가인'), ('x', '괴짜')])\n"
     ]
    }
   ],
   "source": [
    "# keys, values, items - 키값, 밸류값, (키값,밸류값) 리스트 출력\n",
    "\n",
    "print('키값;',newdict.keys())\n",
    "print('밸류값;',newdict.values())\n",
    "print('튜플값:',newdict.items())"
   ]
  },
  {
   "cell_type": "code",
   "execution_count": 55,
   "metadata": {},
   "outputs": [
    {
     "name": "stdout",
     "output_type": "stream",
     "text": [
      "a : 수재\n",
      "b : 우등생\n",
      "c : 평범\n",
      "d : 미달\n",
      "f : 낙제자\n",
      "s : 절세가인\n",
      "x : 괴짜\n"
     ]
    }
   ],
   "source": [
    "for key in newdict.keys():\n",
    "    print(f'{key} : {newdict[key]}')"
   ]
  },
  {
   "cell_type": "code",
   "execution_count": 56,
   "metadata": {},
   "outputs": [
    {
     "name": "stdout",
     "output_type": "stream",
     "text": [
      "a:수재\n",
      "b:우등생\n",
      "c:평범\n",
      "d:미달\n",
      "f:낙제자\n",
      "s:절세가인\n",
      "x:괴짜\n"
     ]
    }
   ],
   "source": [
    "for key, value in newdict.items():\n",
    "    print(f'{key}:{value}')"
   ]
  },
  {
   "cell_type": "code",
   "execution_count": 57,
   "metadata": {},
   "outputs": [
    {
     "data": {
      "text/plain": [
       "['add',\n",
       " 'clear',\n",
       " 'copy',\n",
       " 'difference',\n",
       " 'difference_update',\n",
       " 'discard',\n",
       " 'intersection',\n",
       " 'intersection_update',\n",
       " 'isdisjoint',\n",
       " 'issubset',\n",
       " 'issuperset',\n",
       " 'pop',\n",
       " 'remove',\n",
       " 'symmetric_difference',\n",
       " 'symmetric_difference_update',\n",
       " 'union',\n",
       " 'update']"
      ]
     },
     "execution_count": 57,
     "metadata": {},
     "output_type": "execute_result"
    }
   ],
   "source": [
    "#set 관련 함수\n",
    "[x for x in dir(set()) if x[0]!='_']"
   ]
  },
  {
   "cell_type": "code",
   "execution_count": 65,
   "metadata": {},
   "outputs": [
    {
     "name": "stdout",
     "output_type": "stream",
     "text": [
      "{5}\n",
      "{1, 2, 3, 4, 5, 6, 7}\n",
      "{1, 2, 6}\n",
      "False\n",
      "True\n",
      "{0, 1, 2, 5, 6}\n",
      "{1, 2, 5, 6}\n"
     ]
    }
   ],
   "source": [
    "set1 = {1,2,5,6} ; set2 = {3,4,5,7}\n",
    "#A cap B\n",
    "print(set1.intersection(set2))\n",
    "# A cup B\n",
    "print(set1.union(set2))\n",
    "# A -B \n",
    "print(set1.difference(set2))\n",
    "# A B서로소?\n",
    "print(set1.isdisjoint(set2))\n",
    "print(set1.isdisjoint({3,4}))\n",
    "#원소 추가\n",
    "set1.add(0)\n",
    "print(set1)\n",
    "#원소 삭제\n",
    "set1.discard(0)\n",
    "print(set1)"
   ]
  }
 ],
 "metadata": {
  "kernelspec": {
   "display_name": "Python 3",
   "language": "python",
   "name": "python3"
  },
  "language_info": {
   "codemirror_mode": {
    "name": "ipython",
    "version": 3
   },
   "file_extension": ".py",
   "mimetype": "text/x-python",
   "name": "python",
   "nbconvert_exporter": "python",
   "pygments_lexer": "ipython3",
   "version": "3.7.6"
  }
 },
 "nbformat": 4,
 "nbformat_minor": 4
}
