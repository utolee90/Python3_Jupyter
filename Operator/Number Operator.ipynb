{
 "cells": [
  {
   "cell_type": "code",
   "execution_count": 2,
   "metadata": {},
   "outputs": [
    {
     "name": "stdout",
     "output_type": "stream",
     "text": [
      "문자열 입력 : 문자열\n",
      "문자열\n"
     ]
    }
   ],
   "source": [
    "#일단 input 함수 간단히 설명\n",
    "st1 = input('문자열 입력 : ') # 문자열 입력할 때 사용\n",
    "print(st1)"
   ]
  },
  {
   "cell_type": "code",
   "execution_count": 3,
   "metadata": {},
   "outputs": [
    {
     "name": "stdout",
     "output_type": "stream",
     "text": [
      "int1 = 4, int2 = 4\n"
     ]
    }
   ],
   "source": [
    "# 타입 지정하면 형변환도 가능\n",
    "# int, float, str, list, tuple, set, dict, bool (정수)\n",
    "int1 = int(4.3)\n",
    "int2 = int('4')\n",
    "print(f'int1 = {int1}, int2 = {int2}')"
   ]
  },
  {
   "cell_type": "code",
   "execution_count": 4,
   "metadata": {},
   "outputs": [
    {
     "name": "stdout",
     "output_type": "stream",
     "text": [
      "float1 = 4.0, float2 = 4.32, float3 = 0.004\n"
     ]
    }
   ],
   "source": [
    "# float 형변환\n",
    "float1 = float(4)\n",
    "float2 = float('4.32')\n",
    "float3 = float('4e-3')\n",
    "print(f'float1 = {float1}, float2 = {float2}, float3 = {float3}')"
   ]
  },
  {
   "cell_type": "code",
   "execution_count": 5,
   "metadata": {},
   "outputs": [
    {
     "name": "stdout",
     "output_type": "stream",
     "text": [
      "str1 = 4.3, str2 = [1, 3, 4]\n"
     ]
    }
   ],
   "source": [
    "# str 형변환\n",
    "str1 = str(4.3)\n",
    "str2 = str([1,3,4])\n",
    "print(f'str1 = {str1}, str2 = {str2}')"
   ]
  },
  {
   "cell_type": "code",
   "execution_count": 7,
   "metadata": {},
   "outputs": [
    {
     "name": "stdout",
     "output_type": "stream",
     "text": [
      "134\n"
     ]
    }
   ],
   "source": [
    "#리스트를 문자열로 합칠 땐 - join 사용\n",
    "li1 = ['1','3','4']\n",
    "str3 = ''.join(li1)\n",
    "print(str3)"
   ]
  },
  {
   "cell_type": "code",
   "execution_count": 9,
   "metadata": {},
   "outputs": [
    {
     "name": "stdout",
     "output_type": "stream",
     "text": [
      "['4', '.', '3']\n"
     ]
    }
   ],
   "source": [
    "#문자열, 튜플 등도 리스트로 변경가능\n",
    "lis1 = list(str1)\n",
    "print(lis1)"
   ]
  },
  {
   "cell_type": "code",
   "execution_count": 10,
   "metadata": {},
   "outputs": [
    {
     "name": "stdout",
     "output_type": "stream",
     "text": [
      "lis2 = [1, 6, 7, 3, 5, 7], tup2 = (1, 6, 7, 3, 5, 7), set2 = {1, 3, 5, 6, 7}\n"
     ]
    }
   ],
   "source": [
    "#list, tuple, set - 서로 치환가능\n",
    "lis2 = [1,6,7,3,5,7]\n",
    "tup2 = tuple(lis2)\n",
    "set2 = set(lis2)\n",
    "print(f'lis2 = {lis2}, tup2 = {tup2}, set2 = {set2}')"
   ]
  },
  {
   "cell_type": "code",
   "execution_count": 13,
   "metadata": {},
   "outputs": [
    {
     "data": {
      "text/plain": [
       "True"
      ]
     },
     "execution_count": 13,
     "metadata": {},
     "output_type": "execute_result"
    }
   ],
   "source": [
    "#set dict는 호환가능\n",
    "dict2 = {1:None, 3:None, 5:None, 6:None, 7:None}\n",
    "set(dict2) == set2"
   ]
  },
  {
   "cell_type": "code",
   "execution_count": 15,
   "metadata": {},
   "outputs": [
    {
     "data": {
      "text/plain": [
       "['a', 'b', 'c', 'd', 'f', 's']"
      ]
     },
     "execution_count": 15,
     "metadata": {},
     "output_type": "execute_result"
    }
   ],
   "source": [
    "#list - dict의 키값만 가져온다.\n",
    "dict3 = {'a':'수재', 'b':'우등생', 'c':'평범', 'd':'미달', 'f':'낙제자', 's':'수재'}\n",
    "list(dict3)"
   ]
  },
  {
   "cell_type": "code",
   "execution_count": 16,
   "metadata": {},
   "outputs": [
    {
     "ename": "TypeError",
     "evalue": "cannot convert dictionary update sequence element #0 to a sequence",
     "output_type": "error",
     "traceback": [
      "\u001b[1;31m---------------------------------------------------------------------------\u001b[0m",
      "\u001b[1;31mTypeError\u001b[0m                                 Traceback (most recent call last)",
      "\u001b[1;32m<ipython-input-16-7a24959591ec>\u001b[0m in \u001b[0;36m<module>\u001b[1;34m\u001b[0m\n\u001b[0;32m      1\u001b[0m \u001b[1;31m#dict -> 리스트에서 정의 불가능\u001b[0m\u001b[1;33m\u001b[0m\u001b[1;33m\u001b[0m\u001b[1;33m\u001b[0m\u001b[0m\n\u001b[1;32m----> 2\u001b[1;33m \u001b[0mdict\u001b[0m\u001b[1;33m(\u001b[0m\u001b[1;33m[\u001b[0m\u001b[1;36m1\u001b[0m\u001b[1;33m,\u001b[0m\u001b[1;36m3\u001b[0m\u001b[1;33m,\u001b[0m\u001b[1;36m4\u001b[0m\u001b[1;33m]\u001b[0m\u001b[1;33m)\u001b[0m\u001b[1;33m\u001b[0m\u001b[1;33m\u001b[0m\u001b[0m\n\u001b[0m",
      "\u001b[1;31mTypeError\u001b[0m: cannot convert dictionary update sequence element #0 to a sequence"
     ]
    }
   ],
   "source": [
    "#dict -> 리스트에서 정의 불가능\n",
    "dict([1,3,4])"
   ]
  },
  {
   "cell_type": "code",
   "execution_count": 17,
   "metadata": {},
   "outputs": [
    {
     "name": "stdout",
     "output_type": "stream",
     "text": [
      "{0: 1, 1: 3, 2: 4}\n"
     ]
    }
   ],
   "source": [
    "dic1 = dict()\n",
    "for (key,val) in enumerate([1,3,4]):\n",
    "    dic1[key]=val\n",
    "print(dic1)"
   ]
  },
  {
   "cell_type": "code",
   "execution_count": 19,
   "metadata": {},
   "outputs": [
    {
     "name": "stdout",
     "output_type": "stream",
     "text": [
      "[1, 5, 6, 8, 3, 6, 7]\n"
     ]
    }
   ],
   "source": [
    "#*표시 - 리스트, 튜플을 풀어쓸 때 사용한다. \n",
    "lis1, lis2 = [1,5,6,8] , [3,6,7]\n",
    "lissum = [*lis1, *lis2]\n",
    "print(lissum)"
   ]
  },
  {
   "cell_type": "code",
   "execution_count": 20,
   "metadata": {},
   "outputs": [
    {
     "name": "stdout",
     "output_type": "stream",
     "text": [
      "a=1, b=[2, 5, 4]\n"
     ]
    }
   ],
   "source": [
    "a, *b = 1,2,5,4\n",
    "print(f'a={a}, b={b}')"
   ]
  },
  {
   "cell_type": "code",
   "execution_count": 21,
   "metadata": {},
   "outputs": [
    {
     "name": "stdout",
     "output_type": "stream",
     "text": [
      "<class 'list'>\n"
     ]
    }
   ],
   "source": [
    "*b, = 1,4,5,7\n",
    "print(type(b))"
   ]
  },
  {
   "cell_type": "code",
   "execution_count": 22,
   "metadata": {},
   "outputs": [
    {
     "name": "stdout",
     "output_type": "stream",
     "text": [
      "<class 'tuple'>\n"
     ]
    }
   ],
   "source": [
    "b =1,4,5,7\n",
    "print(type(b))"
   ]
  },
  {
   "cell_type": "code",
   "execution_count": 23,
   "metadata": {},
   "outputs": [
    {
     "name": "stdout",
     "output_type": "stream",
     "text": [
      "{'a': '수재', 'b': '우등생', 'c': '평범', 'd': '미달', 'f': '낙제자', 's': '절세가인', 'x': '괴짜'}\n"
     ]
    }
   ],
   "source": [
    "# **표시 - 내부적으로 dict를 풀어쓸 때 사용\n",
    "dict3 = {'a':'수재', 'b':'우등생', 'c':'평범', 'd':'미달', 'f':'낙제자', 's':'수재'}\n",
    "dict4 = {'x':'괴짜', 's':'절세가인'}\n",
    "dict5 = dict(dict3, **dict4) #합치기, 키값 s는 바뀌저기\n",
    "print(dict5)"
   ]
  },
  {
   "cell_type": "code",
   "execution_count": 28,
   "metadata": {},
   "outputs": [],
   "source": [
    "def opernum(*args, **kwargs):\n",
    "    res = 0 #초기값\n",
    "    if kwargs['oper'] in ['+', 'plus', 'sum']:\n",
    "        for arg in args:\n",
    "            res +=arg\n",
    "        return res\n",
    "    elif kwargs['oper'] in ['*', '×', 'multiply', 'product', 'prod']:\n",
    "        res =1\n",
    "        for arg in args:\n",
    "            res *=arg\n",
    "        return res\n",
    "    elif kwargs['oper'] in ['-', 'minus', 'subtract']:\n",
    "        arg1 = [args[i] if i%2==0 else -args[i] for i in range(len(args))]\n",
    "        for arg in arg1:\n",
    "            res +=arg\n",
    "        return res\n",
    "    else:\n",
    "        return res"
   ]
  },
  {
   "cell_type": "code",
   "execution_count": 33,
   "metadata": {},
   "outputs": [
    {
     "name": "stdout",
     "output_type": "stream",
     "text": [
      "11\n",
      "294.0\n",
      "88.5\n"
     ]
    }
   ],
   "source": [
    "print(opernum(4,5,2,oper='+'))\n",
    "print(opernum(42,1.4,5, oper='*'))\n",
    "print(opernum(12,-43,52.5, 67,oper='plus'))"
   ]
  },
  {
   "cell_type": "code",
   "execution_count": null,
   "metadata": {},
   "outputs": [],
   "source": []
  }
 ],
 "metadata": {
  "kernelspec": {
   "display_name": "Python 3",
   "language": "python",
   "name": "python3"
  },
  "language_info": {
   "codemirror_mode": {
    "name": "ipython",
    "version": 3
   },
   "file_extension": ".py",
   "mimetype": "text/x-python",
   "name": "python",
   "nbconvert_exporter": "python",
   "pygments_lexer": "ipython3",
   "version": "3.7.6"
  }
 },
 "nbformat": 4,
 "nbformat_minor": 4
}
