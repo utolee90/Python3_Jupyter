{
 "cells": [
  {
   "cell_type": "code",
   "execution_count": 15,
   "metadata": {},
   "outputs": [
    {
     "name": "stdout",
     "output_type": "stream",
     "text": [
      "정수:%d, 실수:%f, 문자열:%s\n",
      "정수:5, 실수:5.50, 문자열:홍길동, 퍼센트 기호 : %\n",
      "-----------------\n",
      "정수:   15\n"
     ]
    }
   ],
   "source": [
    "#Print type - 3가지 방법\n",
    "## 서식 출력\n",
    "# 문자열을 출력할 때, 서식문자와 함께 사용하는 것\n",
    "# 서식문자 : %d, %f, %s, %b\n",
    "# %d : 정수, %자릿수d\n",
    "# %f : 실수, %자릿수.소수점자릿수f\n",
    "# %s : 문자열, %자릿수s\n",
    "print(\"정수:%d, 실수:%f, 문자열:%s\")\n",
    "print(\"정수:%d, 실수:%1.2f, 문자열:%s, 퍼센트 기호 : %%\" %(5, 5.5, \"홍길동\"))\n",
    "print(\"-----------------\")\n",
    "print(\"정수:%5d\" %(5+10))\n",
    "\n"
   ]
  },
  {
   "cell_type": "code",
   "execution_count": 16,
   "metadata": {},
   "outputs": [
    {
     "name": "stdout",
     "output_type": "stream",
     "text": [
      "정수 : 5 , 실수 : 5.5\n"
     ]
    }
   ],
   "source": [
    "##format 함수 사용도 가능함\n",
    "#.format 사용 - 타입 지정하지 않고 사용가능.\n",
    "print(\"정수 : {} , 실수 : {}\".format(5, 5.5))"
   ]
  },
  {
   "cell_type": "code",
   "execution_count": 18,
   "metadata": {},
   "outputs": [
    {
     "name": "stdout",
     "output_type": "stream",
     "text": [
      "안녕하세요? 이요한입니다. 이요한\n",
      "2보다 큰 20\n",
      "안녕하세요? {0}\n"
     ]
    }
   ],
   "source": [
    "# 순서 변경, 중복 입력도 가능\n",
    "print(\"안녕하세요? {0}입니다. {0}\".format('이요한'))\n",
    "print('{1}보다 큰 {0}'.format(20,2))\n",
    "print('안녕하세요? {0}')"
   ]
  },
  {
   "cell_type": "code",
   "execution_count": 19,
   "metadata": {},
   "outputs": [
    {
     "name": "stdout",
     "output_type": "stream",
     "text": [
      "{중괄호 안} 내용 표시가능. 이름은 이요한\n"
     ]
    }
   ],
   "source": [
    "#변수명은 임의로 지정가능. 중괄호는 {{}}으로 표시\n",
    "name='이요한'\n",
    "print('{{중괄호 안}} 내용 표시가능. 이름은 {name}'.format(name=name))"
   ]
  },
  {
   "cell_type": "code",
   "execution_count": null,
   "metadata": {},
   "outputs": [],
   "source": [
    "##format 함수 사용도 가능함\n",
    "#.format 사용 - 타입 지정하지 않고 사용가능.\n",
    "print(\"정수 : {} , 실수 : {}\".format(5, 5.5))\n",
    "# 순서 변경, 중복 입력도 가능\n",
    "print(\"안녕하세요? {0}입니다. {0}\".format('이요한'))\n",
    "print('{1}보다 큰 {0}'.format(20,2))\n",
    "#변수명은 임의로 지정가능. 중괄호는 {{}}으로 표시\n",
    "name='이요한'\n",
    "print('{{중괄호 안}} 내용 표시가능. 이름은 {name}'.format(name=name))\n",
    "#빈칸은 :뒤에 표시\n",
    "print('정수 5칸 표시 : {0:5}, 실수 칸 10개, 숫자 5자리: {1:10.5}'.format(20, 13.365234))\n",
    "#포맷함수는 포멧 지정도 가능함. 왼쪽정렬은 <표시\n",
    "print('정수 5칸 왼쪽에 표시 : {0:<5}, 문자열도 : {1:<10}, 공백 확인'.format(20, '긴 문자'))\n",
    "#리스트도 이용가능하다. 장점 - format 형태만 스트링으로 처리가능.\n",
    "alis = [1,3,5]\n",
    "str_form = 'x : {0}'\n",
    "for i in range(3):\n",
    "    print(str_form.format(alis[i]))"
   ]
  },
  {
   "cell_type": "code",
   "execution_count": null,
   "metadata": {},
   "outputs": [],
   "source": [
    "#f 문자열 방식 - 가장 간단함. 변수만 입력해주면 된다.\n",
    "name='이요한'\n",
    "print(f'제 이름은 {name} 입니다.')\n",
    "print(f'문자열 {2}개')\n",
    "# 리스트나 튜플 등에서도 처리 가능\n",
    "for i in range(3):\n",
    "    print(f'x: {alis[i]}')\n",
    "#정렬 조건도 추가가능\n",
    "print(f'정수 앞 빈칸 : {20:5}, 실수 자릿수 맞추기 : {3.653233:7.5}')"
   ]
  },
  {
   "cell_type": "code",
   "execution_count": null,
   "metadata": {},
   "outputs": [],
   "source": [
    "# sep 속성 사용 => 분리문자 설정\n",
    "print(5, 7, 9)\n",
    "print(5, 7, 9, sep=',')\n",
    "\n",
    "# end 속성 사용 => 마지막 문자 설정\n",
    "print(\"가\\n나\")\n",
    "print(\"Hello\")\n",
    "print(\"Python\")\n",
    "print(\"Hello\\nPython\")\n",
    "print(\"Hello\",end=' ')\n",
    "print(\"Python\")\n"
   ]
  }
 ],
 "metadata": {
  "kernelspec": {
   "display_name": "Python 3",
   "language": "python",
   "name": "python3"
  },
  "language_info": {
   "codemirror_mode": {
    "name": "ipython",
    "version": 3
   },
   "file_extension": ".py",
   "mimetype": "text/x-python",
   "name": "python",
   "nbconvert_exporter": "python",
   "pygments_lexer": "ipython3",
   "version": "3.7.6"
  }
 },
 "nbformat": 4,
 "nbformat_minor": 4
}
