{
 "cells": [
  {
   "cell_type": "code",
   "execution_count": 1,
   "metadata": {},
   "outputs": [
    {
     "name": "stdout",
     "output_type": "stream",
     "text": [
      "5\n"
     ]
    }
   ],
   "source": [
    "# 정수\n",
    "print(5)\n"
   ]
  },
  {
   "cell_type": "code",
   "execution_count": 2,
   "metadata": {},
   "outputs": [
    {
     "name": "stdout",
     "output_type": "stream",
     "text": [
      "5 1 2\n",
      "1.5\n",
      "Hello World\n",
      "False\n"
     ]
    }
   ],
   "source": [
    "# 정수\n",
    "print(5, 1, 2)\n",
    "\n",
    "# 실수\n",
    "print(1.5)\n",
    "\n",
    "# 문자열\n",
    "print(\"Hello World\")\n",
    "\n",
    "# boolean\n",
    "print(False)\n",
    "\n"
   ]
  },
  {
   "cell_type": "code",
   "execution_count": 3,
   "metadata": {},
   "outputs": [
    {
     "name": "stdout",
     "output_type": "stream",
     "text": [
      "5 1.2 Hello World False\n"
     ]
    }
   ],
   "source": [
    "# 전부 출력\n",
    "print(5, 1.2, \"Hello World\", False)\n",
    "\n"
   ]
  },
  {
   "cell_type": "code",
   "execution_count": 4,
   "metadata": {},
   "outputs": [
    {
     "name": "stdout",
     "output_type": "stream",
     "text": [
      "12.5\n",
      "가나\n",
      "가True\n",
      "가1.5\n"
     ]
    }
   ],
   "source": [
    "## 연산하여 출력\n",
    "# 1. 숫자 + 숫자 = 연산결과\n",
    "print(5.5+7)\n",
    "\n",
    "# 2. 문자열 + 문자열 = 결합된 문자열\n",
    "print(\"가\"+\"나\")\n",
    "\n",
    "# 3. 문자열 + 숫자 or boolean = ERROR\n",
    "'''\n",
    "print(\"가\" + True)\n",
    "print(\"가\" + 1.5)\n",
    "'''\n",
    "\n",
    "# 4. 문자열 + str(숫자 or boolean) = 결합된 문자열\n",
    "print(\"가\" + str(True))\n",
    "print(\"가\" + str(1.5))\n",
    "\n",
    "\n"
   ]
  },
  {
   "cell_type": "code",
   "execution_count": 6,
   "metadata": {},
   "outputs": [
    {
     "name": "stdout",
     "output_type": "stream",
     "text": [
      "가True\n"
     ]
    }
   ],
   "source": [
    "가='가'\n",
    "print(가+\"True\")"
   ]
  },
  {
   "cell_type": "code",
   "execution_count": null,
   "metadata": {},
   "outputs": [],
   "source": []
  }
 ],
 "metadata": {
  "kernelspec": {
   "display_name": "Python 3",
   "language": "python",
   "name": "python3"
  },
  "language_info": {
   "codemirror_mode": {
    "name": "ipython",
    "version": 3
   },
   "file_extension": ".py",
   "mimetype": "text/x-python",
   "name": "python",
   "nbconvert_exporter": "python",
   "pygments_lexer": "ipython3",
   "version": "3.7.6"
  }
 },
 "nbformat": 4,
 "nbformat_minor": 4
}
