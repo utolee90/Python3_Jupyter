{
 "cells": [
  {
   "cell_type": "code",
   "execution_count": 6,
   "metadata": {},
   "outputs": [
    {
     "name": "stdout",
     "output_type": "stream",
     "text": [
      "123456789012345678901234567990\n",
      "103.14 <class 'float'>\n",
      "가\n",
      "<class 'str'>\n",
      "<class 'bool'>\n",
      "5\n"
     ]
    }
   ],
   "source": [
    "# 데이터 저장\n",
    "num1 = 100\n",
    "num2 = 123456789012345678901234567890\n",
    "num3 = 3.14\n",
    "c = '가'\n",
    "s = 'Hello World'\n",
    "b = True\n",
    "\n",
    "print(num1+num2)\n",
    "print(num1+num3, type(num1+num3))\n",
    "print(c)\n",
    "print(type(c))\n",
    "print(type(b))\n",
    "\n",
    "print(True+4)"
   ]
  },
  {
   "cell_type": "code",
   "execution_count": 9,
   "metadata": {},
   "outputs": [
    {
     "name": "stdout",
     "output_type": "stream",
     "text": [
      "1235.567\n",
      "128.567\n",
      "--------------------\n",
      "8\n"
     ]
    }
   ],
   "source": [
    "str1 = '123'\n",
    "str2 = '5.567'\n",
    "num1 = int(str1)\n",
    "num2 = float(str2)\n",
    "print(str1+str2)\n",
    "print(num1+num2)\n",
    "print('-'*20)\n",
    "print(4+int('4'))\n"
   ]
  },
  {
   "cell_type": "code",
   "execution_count": 16,
   "metadata": {},
   "outputs": [
    {
     "data": {
      "text/plain": [
       "4.3"
      ]
     },
     "execution_count": 16,
     "metadata": {},
     "output_type": "execute_result"
    }
   ],
   "source": [
    "float('4.3')"
   ]
  },
  {
   "cell_type": "code",
   "execution_count": 17,
   "metadata": {},
   "outputs": [
    {
     "name": "stdout",
     "output_type": "stream",
     "text": [
      "--------------------\n",
      "123\n",
      "5.567\n",
      "123\n",
      "5.567\n",
      "--------------------\n",
      "<class 'str'>\n",
      "<class 'str'>\n",
      "<class 'int'>\n",
      "<class 'float'>\n",
      "--------------------\n",
      "15129\n",
      "ababababab\n",
      "ababababab\n",
      "--------------------\n"
     ]
    }
   ],
   "source": [
    "# + 연산자\n",
    "# 정수 + 실수 = 실수\n",
    "# 문자열 + 문자열 = 문자열\n",
    "# 정수, 실수, bool 문자열로 변경 => str() 함수 사용\n",
    "#\n",
    "# 문자열 => 정수 : int() 함수 사용\n",
    "# 문자열 => 실수 : float() 함수 사용\n",
    "\n",
    "str1 = '123'\n",
    "str2 = '5.567'\n",
    "num1 = int(str1)\n",
    "num2 = float(str2)\n",
    "print('-'*20)\n",
    "\n",
    "print(str1)\n",
    "print(str2)\n",
    "print(num1)\n",
    "print(num2)\n",
    "print('-'*20)\n",
    "\n",
    "print(type(str1))\n",
    "print(type(str2))\n",
    "print(type(num1))\n",
    "print(type(num2))\n",
    "print('-'*20)\n",
    "\n",
    "# *  연산자\n",
    "# 숫자 * 숫자 = 숫자\n",
    "# 문자열 * 문자열 => ERROR\n",
    "# 문자열 * 숫자 => 문자열을 숫자만큼 반복된 문자열 생성\n",
    "\n",
    "print(num1*num1)\n",
    "print('ab' * 5)\n",
    "print(5 * 'ab')\n",
    "print('-'*20)"
   ]
  },
  {
   "cell_type": "code",
   "execution_count": 18,
   "metadata": {},
   "outputs": [
    {
     "name": "stdout",
     "output_type": "stream",
     "text": [
      "안녕하세요\n",
      "파이썬 강의입니다.\n",
      "여러줄 문자열 테스트\n",
      "복습을 해애만...\n",
      "수업을 따라갈 수 있습니다,\n",
      "x\n",
      "\n"
     ]
    }
   ],
   "source": [
    "# 한 줄 문자열\n",
    "s1 = 'hello'\n",
    "s2 = \"hello\"\n",
    "\n",
    "# 여러줄 문자열\n",
    "s3 = '''안녕하세요\n",
    "파이썬 강의입니다.\n",
    "여러줄 문자열 테스트\n",
    "복습을 해애만...\\n수업을 따라갈 수 있습니다,'''\n",
    "print(s3)\n",
    "\n",
    "xstr=\"\"\"x\n",
    "\"\"\"\n",
    "print(xstr)\n",
    "\n",
    "# \\n 명령어가 아직 끝나지 않았습니다.\n"
   ]
  },
  {
   "cell_type": "code",
   "execution_count": 19,
   "metadata": {},
   "outputs": [
    {
     "name": "stdout",
     "output_type": "stream",
     "text": [
      "2\n"
     ]
    }
   ],
   "source": [
    "#python은 문자열 등 정의가능하지 않는 부분은 처리하지 않는다.\n",
    "\"\"\"\n",
    "우리는 설명을 길게 늘어놓습니다. \n",
    "그러나 따옴표처리된 부분은 신경쓰지 않습니다.\n",
    "\"\"\"\n",
    "0\n",
    "0\n",
    "'문자열은 신경 안 씁니다.'\n",
    "x=2\n",
    "print(2)"
   ]
  },
  {
   "cell_type": "code",
   "execution_count": 21,
   "metadata": {},
   "outputs": [
    {
     "name": "stdout",
     "output_type": "stream",
     "text": [
      "num1 : 15, num2 : 20, num3 : 6\n",
      "num1+num2 = 35\n",
      "num1-num2 = -5\n",
      "num1*num2 = 300\n",
      "num1/num2 = 0.75\n",
      "num1**num3 = 11390625\n",
      "num1//num3 = 2\n",
      "num1%num3 = 3\n"
     ]
    }
   ],
   "source": [
    "num1 = 15; num2=20; num3= 6\n",
    "print(f'num1 : {num1}, num2 : {num2}, num3 : {num3}')\n",
    "print(f'num1+num2 = {num1+num2}') #덧셈\n",
    "print(f'num1-num2 = {num1-num2}') #뺄셈\n",
    "print(f'num1*num2 = {num1*num2}') #곱셈\n",
    "print(f'num1/num2 = {num1/num2}') #나눗셈\n",
    "print(f'num1**num3 = {num1**num3}') #제곱\n",
    "print(f'num1//num3 = {num1//num3}') #정수 나눗셈\n",
    "print(f'num1%num3 = {num1%num3}') #나머지"
   ]
  },
  {
   "cell_type": "code",
   "execution_count": 23,
   "metadata": {},
   "outputs": [
    {
     "name": "stdout",
     "output_type": "stream",
     "text": [
      "fl1 : 0.43, fl2 : -2.35\n",
      "f11 + fl2 = -1.9200000000000002\n",
      "fl1 * fl2 = -1.0105\n"
     ]
    }
   ],
   "source": [
    "fl1 = 4.3e-1; fl2 = -2.35\n",
    "print(f'fl1 : {fl1}, fl2 : {fl2}')\n",
    "print(f'f11 + fl2 = {fl1 + fl2}')\n",
    "print(f'fl1 * fl2 = {fl1 * fl2}')"
   ]
  },
  {
   "cell_type": "code",
   "execution_count": 29,
   "metadata": {},
   "outputs": [
    {
     "name": "stdout",
     "output_type": "stream",
     "text": [
      "False\n",
      "0.1\n",
      "True\n",
      "\n",
      "fl1 + f12 = -1.92\n"
     ]
    }
   ],
   "source": [
    "from decimal import Decimal\n",
    "print(0.1+0.1+0.1 == 0.3)\n",
    "print(float(Decimal('0.1')))\n",
    "print(Decimal('0.1')+Decimal('0.1')+Decimal('0.1') == Decimal('0.3'))\n",
    "\n",
    "print()\n",
    "print(f'fl1 + f12 = {Decimal(str(fl1))+Decimal(str(fl2))}')"
   ]
  },
  {
   "cell_type": "code",
   "execution_count": 37,
   "metadata": {},
   "outputs": [
    {
     "name": "stdout",
     "output_type": "stream",
     "text": [
      "1.0\n",
      "1\n",
      "1/2\n"
     ]
    }
   ],
   "source": [
    "from fractions import Fraction\n",
    "print(1/11*11)\n",
    "print(Fraction('1/7')*7)\n",
    "print(Fraction('2/3')*Fraction('3/4'))"
   ]
  },
  {
   "cell_type": "code",
   "execution_count": 46,
   "metadata": {},
   "outputs": [
    {
     "name": "stdout",
     "output_type": "stream",
     "text": [
      "\n",
      "val = (4+5j)\n",
      "re = 4.0\n",
      "im = 5.0\n",
      "conjugate = (4-5j)\n",
      "im*jm = (-0.6000000000000001-2.8j)\n",
      "\n"
     ]
    }
   ],
   "source": [
    "# 복소수 \n",
    "im = complex(4+5j)\n",
    "jm = complex(-2-1j)/5\n",
    "print(f'''\n",
    "val = {im}\n",
    "re = {im.real}\n",
    "im = {im.imag}\n",
    "conjugate = {im.conjugate()}\n",
    "im*jm = {im*jm}\n",
    "''')"
   ]
  },
  {
   "cell_type": "code",
   "execution_count": 48,
   "metadata": {},
   "outputs": [
    {
     "data": {
      "text/plain": [
       "(2-1j)"
      ]
     },
     "execution_count": 48,
     "metadata": {},
     "output_type": "execute_result"
    }
   ],
   "source": []
  }
 ],
 "metadata": {
  "kernelspec": {
   "display_name": "Python 3",
   "language": "python",
   "name": "python3"
  },
  "language_info": {
   "codemirror_mode": {
    "name": "ipython",
    "version": 3
   },
   "file_extension": ".py",
   "mimetype": "text/x-python",
   "name": "python",
   "nbconvert_exporter": "python",
   "pygments_lexer": "ipython3",
   "version": "3.7.6"
  }
 },
 "nbformat": 4,
 "nbformat_minor": 4
}
