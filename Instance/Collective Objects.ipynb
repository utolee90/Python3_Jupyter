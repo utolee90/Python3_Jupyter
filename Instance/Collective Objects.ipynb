{
 "cells": [
  {
   "cell_type": "code",
   "execution_count": 1,
   "metadata": {},
   "outputs": [
    {
     "name": "stdout",
     "output_type": "stream",
     "text": [
      "test\n",
      "1\n"
     ]
    }
   ],
   "source": [
    "#Collective 자료형 - 문자열, 리스트, 튜플, 셋, 딕셔너리\n",
    "#리스트 - [], list()\n",
    "lis_x = [1, 3, 'test', [2,5]]\n",
    "# 인덱스 확인할 때 사용하는 방법 - []\n",
    "print(lis_x[2])\n",
    "print(lis_x[0])"
   ]
  },
  {
   "cell_type": "code",
   "execution_count": 4,
   "metadata": {},
   "outputs": [
    {
     "name": "stdout",
     "output_type": "stream",
     "text": [
      "2\n"
     ]
    }
   ],
   "source": [
    "print(lis_x[3][0])"
   ]
  },
  {
   "cell_type": "code",
   "execution_count": 5,
   "metadata": {},
   "outputs": [
    {
     "name": "stdout",
     "output_type": "stream",
     "text": [
      "[1, 3, 'test', [2, 5], 'x', 3.5]\n",
      "I am a teacher\n",
      "[0, 2, 4, 0, 2, 4]\n"
     ]
    }
   ],
   "source": [
    "#리스트 - 문자열 더하듯 더할 수 있다. \n",
    "lis_y = ['x', 3.5]\n",
    "lis_z = lis_x+lis_y\n",
    "print(lis_z)\n",
    "#* 반복도 가능하다.\n",
    "#print(lis_x*3)\n",
    "\n",
    "str1 = \"I am \"\n",
    "str2 = \"a teacher\"\n",
    "print(str1+str2)\n",
    "\n",
    "lis_a = [0,2,4]\n",
    "print(lis_a*2)\n"
   ]
  },
  {
   "cell_type": "code",
   "execution_count": 7,
   "metadata": {},
   "outputs": [
    {
     "name": "stdout",
     "output_type": "stream",
     "text": [
      "Variable   Type    Data/Info\n",
      "----------------------------\n",
      "lis_a      list    n=3\n",
      "lis_x      list    n=4\n",
      "lis_y      list    n=2\n",
      "lis_z      list    n=6\n",
      "str1       str     I am \n",
      "str2       str     a teacher\n"
     ]
    }
   ],
   "source": [
    "%whos\n",
    "del lis_a"
   ]
  },
  {
   "cell_type": "code",
   "execution_count": 9,
   "metadata": {},
   "outputs": [
    {
     "name": "stdout",
     "output_type": "stream",
     "text": [
      "[1, 3, 'test', 'x', 3.5]\n"
     ]
    }
   ],
   "source": [
    "del lis_z[3]\n",
    "print(lis_z)\n"
   ]
  },
  {
   "cell_type": "code",
   "execution_count": 10,
   "metadata": {},
   "outputs": [
    {
     "name": "stdout",
     "output_type": "stream",
     "text": [
      "[1, 3, 10, 'x', 3.5]\n"
     ]
    }
   ],
   "source": [
    "lis_z[2]=10\n",
    "print(lis_z)\n",
    "#mutable "
   ]
  },
  {
   "cell_type": "code",
   "execution_count": 13,
   "metadata": {},
   "outputs": [
    {
     "name": "stdout",
     "output_type": "stream",
     "text": [
      "1571266072840\n",
      "1571266072840\n",
      "[-4, 3, 10, 'x', 3.5]\n"
     ]
    }
   ],
   "source": [
    "print(id(lis_z))\n",
    "lis_z[0]=-4\n",
    "print(id(lis_z))\n",
    "print(lis_z)"
   ]
  },
  {
   "cell_type": "code",
   "execution_count": 14,
   "metadata": {},
   "outputs": [
    {
     "name": "stdout",
     "output_type": "stream",
     "text": [
      "1571266072840\n"
     ]
    }
   ],
   "source": [
    "print(id(lis_z))"
   ]
  },
  {
   "cell_type": "code",
   "execution_count": 15,
   "metadata": {},
   "outputs": [
    {
     "name": "stdout",
     "output_type": "stream",
     "text": [
      "[1, 2, 3]\n"
     ]
    }
   ],
   "source": [
    "# 테크닉\n",
    "*a, = 1,2,3,\n",
    "print(a)"
   ]
  },
  {
   "cell_type": "code",
   "execution_count": null,
   "metadata": {},
   "outputs": [],
   "source": [
    "# 리스트 - 변경가능함.\n",
    "print(a)\n",
    "a[2]=10"
   ]
  },
  {
   "cell_type": "code",
   "execution_count": null,
   "metadata": {},
   "outputs": [],
   "source": [
    "print(id(a))\n",
    "a.append(4)\n",
    "print(a)\n",
    "#id값은 변하지 않지만 a값은 변한다.\n",
    "print(id(a))"
   ]
  },
  {
   "cell_type": "code",
   "execution_count": 19,
   "metadata": {},
   "outputs": [
    {
     "name": "stdout",
     "output_type": "stream",
     "text": [
      "(2, 3, 'test', 16.3)\n",
      "<class 'tuple'>\n",
      "<class 'list'>\n",
      "2\n",
      "3\n",
      "test\n",
      "16.3\n"
     ]
    }
   ],
   "source": [
    "# 튜플 - 괄호로 표시 \n",
    "b= (2,3,\"test\", 12+4.3)\n",
    "print(b)\n",
    "print(type(b))\n",
    "print(type(a))\n",
    "for bc in b:\n",
    "    print(bc)"
   ]
  },
  {
   "cell_type": "code",
   "execution_count": 23,
   "metadata": {},
   "outputs": [],
   "source": [
    "#튜플 - 바꿀 수 없고 재정의해야 한다.\n",
    "#b[0]=0\n",
    "#del b[3] #에러난다! \n",
    "b= (2,3,\"test\", 12+4.3)"
   ]
  },
  {
   "cell_type": "code",
   "execution_count": 24,
   "metadata": {},
   "outputs": [
    {
     "name": "stdout",
     "output_type": "stream",
     "text": [
      "(2, 3, 'test')\n"
     ]
    }
   ],
   "source": [
    "b= b[0:3]\n",
    "print(b)\n"
   ]
  },
  {
   "cell_type": "code",
   "execution_count": 25,
   "metadata": {},
   "outputs": [
    {
     "name": "stdout",
     "output_type": "stream",
     "text": [
      "(0, 3, 'test')\n"
     ]
    }
   ],
   "source": [
    "b=(0,)+b[1:]\n",
    "print(b)\n",
    "#immutable`"
   ]
  },
  {
   "cell_type": "code",
   "execution_count": 27,
   "metadata": {
    "scrolled": true
   },
   "outputs": [
    {
     "name": "stdout",
     "output_type": "stream",
     "text": [
      "Variable   Type     Data/Info\n",
      "-----------------------------\n",
      "a          list     n=3\n",
      "b          tuple    n=3\n",
      "bc         float    16.3\n",
      "lis_x      list     n=4\n",
      "lis_y      list     n=2\n",
      "lis_z      list     n=5\n",
      "str1       str      I have a dream\n",
      "str2       str      a teacher\n"
     ]
    }
   ],
   "source": [
    "%whos"
   ]
  },
  {
   "cell_type": "code",
   "execution_count": 26,
   "metadata": {},
   "outputs": [
    {
     "ename": "TypeError",
     "evalue": "'str' object doesn't support item deletion",
     "output_type": "error",
     "traceback": [
      "\u001b[1;31m---------------------------------------------------------------------------\u001b[0m",
      "\u001b[1;31mTypeError\u001b[0m                                 Traceback (most recent call last)",
      "\u001b[1;32m<ipython-input-26-d3ed9a756cfc>\u001b[0m in \u001b[0;36m<module>\u001b[1;34m\u001b[0m\n\u001b[0;32m      2\u001b[0m \u001b[0mstr1\u001b[0m \u001b[1;33m=\u001b[0m \u001b[1;34m'I have a dream'\u001b[0m\u001b[1;33m\u001b[0m\u001b[1;33m\u001b[0m\u001b[0m\n\u001b[0;32m      3\u001b[0m \u001b[1;31m#a를 지우고 싶으면 del 못 사용\u001b[0m\u001b[1;33m\u001b[0m\u001b[1;33m\u001b[0m\u001b[1;33m\u001b[0m\u001b[0m\n\u001b[1;32m----> 4\u001b[1;33m \u001b[1;32mdel\u001b[0m \u001b[0mstr1\u001b[0m\u001b[1;33m[\u001b[0m\u001b[1;36m7\u001b[0m\u001b[1;33m]\u001b[0m\u001b[1;33m\u001b[0m\u001b[1;33m\u001b[0m\u001b[0m\n\u001b[0m",
      "\u001b[1;31mTypeError\u001b[0m: 'str' object doesn't support item deletion"
     ]
    }
   ],
   "source": [
    "# 문자열 - del 못 쓴다. 대신 splice 사용해야 한다.\n",
    "str1 = 'I have a dream'\n",
    "#a를 지우고 싶으면 del 못 사용\n",
    "del str1[7]"
   ]
  },
  {
   "cell_type": "code",
   "execution_count": 28,
   "metadata": {},
   "outputs": [
    {
     "name": "stdout",
     "output_type": "stream",
     "text": [
      "I have dream\n"
     ]
    }
   ],
   "source": [
    "str1=str1[0:7]+str1[9:]\n",
    "print(str1)\n",
    "#문자열도 immutable"
   ]
  },
  {
   "cell_type": "code",
   "execution_count": 30,
   "metadata": {},
   "outputs": [
    {
     "name": "stdout",
     "output_type": "stream",
     "text": [
      "{'tx', 2, 3.4, 5}\n"
     ]
    }
   ],
   "source": [
    "# set(집합) -> {} 사용. 단 공집합은 set() 사용 필수\n",
    "set1 = {2,5, \"tx\", 3.4}\n",
    "#set2 = {3, 4, {5,6,7}}\n",
    "print(set1)\n"
   ]
  },
  {
   "cell_type": "code",
   "execution_count": 33,
   "metadata": {},
   "outputs": [
    {
     "data": {
      "text/plain": [
       "True"
      ]
     },
     "execution_count": 33,
     "metadata": {},
     "output_type": "execute_result"
    }
   ],
   "source": [
    "dict00 = {'a':1, 'b':2}\n",
    "dict000 = {'b':2, 'a':1}\n",
    "dict00 == dict000"
   ]
  },
  {
   "cell_type": "code",
   "execution_count": 36,
   "metadata": {},
   "outputs": [
    {
     "name": "stdout",
     "output_type": "stream",
     "text": [
      "[1, 2, 3, 4, 5]\n"
     ]
    }
   ],
   "source": [
    "print(list(set([1,2,3,1,1,3,4,2,5])))"
   ]
  },
  {
   "cell_type": "code",
   "execution_count": 39,
   "metadata": {},
   "outputs": [
    {
     "name": "stdout",
     "output_type": "stream",
     "text": [
      "[[1, 2, 3], [2, 4, 1], 3, 4, 1, 2]\n"
     ]
    }
   ],
   "source": [
    "xlist = [[1,2,3],[2,4,1],3,4,1,2,[1,2,3]]\n",
    "newlist = []\n",
    "for ele in xlist:\n",
    "    if ele not in newlist:\n",
    "        newlist.append(ele)\n",
    "print(newlist)"
   ]
  },
  {
   "cell_type": "code",
   "execution_count": 41,
   "metadata": {},
   "outputs": [
    {
     "data": {
      "text/plain": [
       "True"
      ]
     },
     "execution_count": 41,
     "metadata": {},
     "output_type": "execute_result"
    }
   ],
   "source": [
    "# in 키워드 의미\n",
    "xlist\n",
    "1 in xlist"
   ]
  },
  {
   "cell_type": "code",
   "execution_count": null,
   "metadata": {},
   "outputs": [],
   "source": [
    "# set - 리스트를 원소로 삼지 못한다. \n",
    "# set 순서를 신경 안 쓴다. \n",
    "list1 = ['a', 'b']\n",
    "list2 = ['b', 'a']\n",
    "print(list1 == list2)\n",
    "set1 = {'a', 'b'}\n",
    "set2 = {'b', 'a'}\n",
    "print(set1 == set2)"
   ]
  },
  {
   "cell_type": "code",
   "execution_count": 45,
   "metadata": {},
   "outputs": [
    {
     "data": {
      "text/plain": [
       "1"
      ]
     },
     "execution_count": 45,
     "metadata": {},
     "output_type": "execute_result"
    }
   ],
   "source": [
    "#set1[0]\n",
    "dict00['a']"
   ]
  },
  {
   "cell_type": "code",
   "execution_count": 47,
   "metadata": {},
   "outputs": [
    {
     "ename": "TypeError",
     "evalue": "unhashable type: 'slice'",
     "output_type": "error",
     "traceback": [
      "\u001b[1;31m---------------------------------------------------------------------------\u001b[0m",
      "\u001b[1;31mTypeError\u001b[0m                                 Traceback (most recent call last)",
      "\u001b[1;32m<ipython-input-47-c634d53b38f6>\u001b[0m in \u001b[0;36m<module>\u001b[1;34m\u001b[0m\n\u001b[0;32m      1\u001b[0m \u001b[1;31m#set1[0:1]\u001b[0m\u001b[1;33m\u001b[0m\u001b[1;33m\u001b[0m\u001b[1;33m\u001b[0m\u001b[0m\n\u001b[1;32m----> 2\u001b[1;33m \u001b[0mdict00\u001b[0m\u001b[1;33m[\u001b[0m\u001b[1;36m0\u001b[0m\u001b[1;33m:\u001b[0m\u001b[1;36m1\u001b[0m\u001b[1;33m]\u001b[0m\u001b[1;33m\u001b[0m\u001b[1;33m\u001b[0m\u001b[0m\n\u001b[0m",
      "\u001b[1;31mTypeError\u001b[0m: unhashable type: 'slice'"
     ]
    }
   ],
   "source": [
    "#set1[0:1]"
   ]
  },
  {
   "cell_type": "code",
   "execution_count": null,
   "metadata": {},
   "outputs": [],
   "source": []
  },
  {
   "cell_type": "code",
   "execution_count": 48,
   "metadata": {},
   "outputs": [
    {
     "data": {
      "text/plain": [
       "True"
      ]
     },
     "execution_count": 48,
     "metadata": {},
     "output_type": "execute_result"
    }
   ],
   "source": [
    "#print(list(set1))\n",
    "'b'>'a'"
   ]
  },
  {
   "cell_type": "code",
   "execution_count": 49,
   "metadata": {},
   "outputs": [
    {
     "data": {
      "text/plain": [
       "False"
      ]
     },
     "execution_count": 49,
     "metadata": {},
     "output_type": "execute_result"
    }
   ],
   "source": [
    "[1,2,4]>[2,4,1]"
   ]
  },
  {
   "cell_type": "code",
   "execution_count": 50,
   "metadata": {},
   "outputs": [
    {
     "ename": "TypeError",
     "evalue": "'<' not supported between instances of 'int' and 'str'",
     "output_type": "error",
     "traceback": [
      "\u001b[1;31m---------------------------------------------------------------------------\u001b[0m",
      "\u001b[1;31mTypeError\u001b[0m                                 Traceback (most recent call last)",
      "\u001b[1;32m<ipython-input-50-4638bb82d450>\u001b[0m in \u001b[0;36m<module>\u001b[1;34m\u001b[0m\n\u001b[1;32m----> 1\u001b[1;33m \u001b[1;36m4\u001b[0m\u001b[1;33m<\u001b[0m\u001b[1;34m\"4\"\u001b[0m\u001b[1;33m\u001b[0m\u001b[1;33m\u001b[0m\u001b[0m\n\u001b[0m",
      "\u001b[1;31mTypeError\u001b[0m: '<' not supported between instances of 'int' and 'str'"
     ]
    }
   ],
   "source": [
    "4<\"4\""
   ]
  },
  {
   "cell_type": "code",
   "execution_count": null,
   "metadata": {},
   "outputs": [],
   "source": [
    "set3 = {2,3,4,6,7}\n",
    "print(list(set3))"
   ]
  },
  {
   "cell_type": "code",
   "execution_count": 51,
   "metadata": {},
   "outputs": [],
   "source": [
    "# 딕셔너리 {x:x,y:y}\n",
    "dict1 = {'이재웅':'데이터 크롤링', '안상선':'팀 프로젝트', '오은택':'AWS', '이진범':'장고', '박종섭':'딥러닝' }\n",
    "dict2 = {1:'골키퍼', 2:'수비수', 3:'미드필더', 4:'공격수', 'coach':['감독', '수석코치', '트레이너']}"
   ]
  },
  {
   "cell_type": "code",
   "execution_count": 52,
   "metadata": {},
   "outputs": [
    {
     "name": "stdout",
     "output_type": "stream",
     "text": [
      "데이터 크롤링\n"
     ]
    }
   ],
   "source": [
    "#값 읽기 - 간단하게 [] 사용\n",
    "print(dict1['이재웅'])"
   ]
  },
  {
   "cell_type": "code",
   "execution_count": 53,
   "metadata": {},
   "outputs": [
    {
     "ename": "TypeError",
     "evalue": "unsupported operand type(s) for +: 'dict' and 'dict'",
     "output_type": "error",
     "traceback": [
      "\u001b[1;31m---------------------------------------------------------------------------\u001b[0m",
      "\u001b[1;31mTypeError\u001b[0m                                 Traceback (most recent call last)",
      "\u001b[1;32m<ipython-input-53-361bfa56b6d4>\u001b[0m in \u001b[0;36m<module>\u001b[1;34m\u001b[0m\n\u001b[1;32m----> 1\u001b[1;33m \u001b[0mdict_sum\u001b[0m \u001b[1;33m=\u001b[0m \u001b[0mdict1\u001b[0m \u001b[1;33m+\u001b[0m \u001b[0mdict2\u001b[0m\u001b[1;33m\u001b[0m\u001b[1;33m\u001b[0m\u001b[0m\n\u001b[0m",
      "\u001b[1;31mTypeError\u001b[0m: unsupported operand type(s) for +: 'dict' and 'dict'"
     ]
    }
   ],
   "source": [
    "dict_sum = dict1 + dict2"
   ]
  },
  {
   "cell_type": "code",
   "execution_count": null,
   "metadata": {},
   "outputs": [],
   "source": [
    "dict2.pop('coach')"
   ]
  },
  {
   "cell_type": "code",
   "execution_count": null,
   "metadata": {},
   "outputs": [],
   "source": [
    "dict2 += {5:'감독'}"
   ]
  },
  {
   "cell_type": "code",
   "execution_count": 56,
   "metadata": {},
   "outputs": [
    {
     "name": "stdout",
     "output_type": "stream",
     "text": [
      "{1: '골키퍼', 2: '수비수', 3: '미드필더', 4: '공격수', 'coach': ['감독', '수석코치', '트레이너'], 5: '감독'}\n",
      "{1: '골키퍼', 2: '수비수', 3: '미드필더', 4: '공격수', 'coach': ['감독', '수석코치', '트레이너']}\n"
     ]
    }
   ],
   "source": [
    "dict2[5]='감독'\n",
    "print(dict2)\n",
    "del dict2[5]\n",
    "print(dict2)\n",
    "#dictinary  mutable"
   ]
  },
  {
   "cell_type": "code",
   "execution_count": 57,
   "metadata": {},
   "outputs": [],
   "source": [
    "#딕셔너리 합치기 -update 함수\n",
    "dict2.update(dict1)"
   ]
  },
  {
   "cell_type": "code",
   "execution_count": 58,
   "metadata": {},
   "outputs": [
    {
     "name": "stdout",
     "output_type": "stream",
     "text": [
      "{1: '골키퍼', 2: '수비수', 3: '미드필더', 4: '공격수', 'coach': ['감독', '수석코치', '트레이너'], '이재웅': '데이터 크롤링', '안상선': '팀 프로젝트', '오은택': 'AWS', '이진범': '장고', '박종섭': '딥러닝'}\n"
     ]
    }
   ],
   "source": [
    "print(dict2)"
   ]
  },
  {
   "cell_type": "code",
   "execution_count": 60,
   "metadata": {},
   "outputs": [
    {
     "name": "stdout",
     "output_type": "stream",
     "text": [
      "{1: '골키퍼', 2: '수비수', 3: '미드필더', 4: '공격수', 'coach': ['감독', '수석코치', '트레이너']}\n",
      "{1: '골키퍼', 2: '수비수', 3: '미드필더', 4: '공격수', 'coach': ['감독', '수석코치', '트레이너'], '이재웅': '데이터 크롤링', '안상선': '팀 프로젝트', '오은택': 'AWS', '이진범': '장고', '박종섭': '딥러닝'}\n"
     ]
    }
   ],
   "source": [
    "#바꾸지 않고 딕셔너리 합치기\n",
    "dict2 = {1: '골키퍼', 2: '수비수', 3: '미드필더', 4: '공격수', 'coach': ['감독', '수석코치', '트레이너']}\n",
    "dict3 = dict(dict2, **dict1)\n",
    "print(dict2)\n",
    "print(dict3)"
   ]
  },
  {
   "cell_type": "code",
   "execution_count": 62,
   "metadata": {},
   "outputs": [
    {
     "name": "stdout",
     "output_type": "stream",
     "text": [
      "(1, 3, 5) (2, 5, 7) (1, 3, 5, 2, 5, 7)\n"
     ]
    }
   ],
   "source": [
    "#마찬가지로 리스트/튜플 합칠 때에도 사용가능\n",
    "tup1 = (1,3,5)\n",
    "tup2 = (2,5,7)\n",
    "tup3 = (*tup1, *tup2,)\n",
    "print(tup1, tup2, tup3)"
   ]
  },
  {
   "cell_type": "code",
   "execution_count": 63,
   "metadata": {},
   "outputs": [],
   "source": [
    "# * 리스트, 튜플 원소 풀어쓸 때\n",
    "# ** 딕셔너리 키=값  형태로 원소 풀어쓸 때 사용 -> 함수 "
   ]
  },
  {
   "cell_type": "code",
   "execution_count": 64,
   "metadata": {},
   "outputs": [],
   "source": [
    "def oper(a,b,oper=None):\n",
    "    res =0\n",
    "    if oper=='+':\n",
    "        res = a+b\n",
    "    elif oper == '*':\n",
    "        res = a*b\n",
    "    elif oper == '-':\n",
    "        res = a-b\n",
    "    elif oper == '/':\n",
    "        res = a/b\n",
    "    else:\n",
    "        pass\n",
    "    return res"
   ]
  },
  {
   "cell_type": "code",
   "execution_count": 65,
   "metadata": {},
   "outputs": [
    {
     "data": {
      "text/plain": [
       "6"
      ]
     },
     "execution_count": 65,
     "metadata": {},
     "output_type": "execute_result"
    }
   ],
   "source": [
    "oper(4,2,oper='+')"
   ]
  },
  {
   "cell_type": "code",
   "execution_count": 66,
   "metadata": {},
   "outputs": [],
   "source": [
    "del tup3"
   ]
  },
  {
   "cell_type": "code",
   "execution_count": 67,
   "metadata": {},
   "outputs": [
    {
     "name": "stdout",
     "output_type": "stream",
     "text": [
      "Variable   Type        Data/Info\n",
      "--------------------------------\n",
      "a          list        n=3\n",
      "b          tuple       n=3\n",
      "bc         float       16.3\n",
      "dict00     dict        n=2\n",
      "dict000    dict        n=2\n",
      "dict1      dict        n=5\n",
      "dict2      dict        n=5\n",
      "dict3      dict        n=10\n",
      "ele        list        n=3\n",
      "lis_x      list        n=4\n",
      "lis_y      list        n=2\n",
      "lis_z      list        n=5\n",
      "newlist    list        n=6\n",
      "oper       function    <function oper at 0x0000016DD6CCE438>\n",
      "set1       set         {'tx', 2, 3.4, 5}\n",
      "str1       str         I have dream\n",
      "str2       str         a teacher\n",
      "tup1       tuple       n=3\n",
      "tup2       tuple       n=3\n",
      "xlist      list        n=7\n"
     ]
    }
   ],
   "source": [
    "%whos"
   ]
  }
 ],
 "metadata": {
  "kernelspec": {
   "display_name": "Python 3",
   "language": "python",
   "name": "python3"
  },
  "language_info": {
   "codemirror_mode": {
    "name": "ipython",
    "version": 3
   },
   "file_extension": ".py",
   "mimetype": "text/x-python",
   "name": "python",
   "nbconvert_exporter": "python",
   "pygments_lexer": "ipython3",
   "version": "3.7.6"
  }
 },
 "nbformat": 4,
 "nbformat_minor": 4
}
